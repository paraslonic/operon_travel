{
 "cells": [
  {
   "cell_type": "markdown",
   "metadata": {},
   "source": [
    "# Оперон PDU сравним с другими оперонами в том же наборе штаммов\n",
    "***"
   ]
  },
  {
   "cell_type": "markdown",
   "metadata": {},
   "source": [
    "# [21.09] Нарисуем гистограмму значений метрик для разных деревьев (R)"
   ]
  },
  {
   "cell_type": "code",
   "execution_count": 15,
   "metadata": {},
   "outputs": [],
   "source": [
    "library(\"phangorn\")"
   ]
  },
  {
   "cell_type": "code",
   "execution_count": 23,
   "metadata": {},
   "outputs": [],
   "source": [
    "pdu_core_tree <- read.tree(\"studio/pdu/core_pdu_aligned.fasta.raxml.bestTree\")\n",
    "pdu_region_tree <- read.tree(\"studio/pdu/pdu.fasta.raxml.bestTree\")"
   ]
  },
  {
   "cell_type": "code",
   "execution_count": 13,
   "metadata": {},
   "outputs": [],
   "source": [
    "list_tree_files = list.files(\"tree_to_compare//pdu/trees/\", \"*.bestTree$\",full.names = T)\n",
    "list_tree = lapply(list_tree_files, read.tree)"
   ]
  },
  {
   "cell_type": "code",
   "execution_count": 16,
   "metadata": {},
   "outputs": [],
   "source": [
    "RF_vals = sapply(list_tree, function(x){return(wRF.dist(pdu_core_tree, x))})"
   ]
  },
  {
   "cell_type": "code",
   "execution_count": 25,
   "metadata": {},
   "outputs": [
    {
     "data": {
      "text/html": [
       "0.394522"
      ],
      "text/latex": [
       "0.394522"
      ],
      "text/markdown": [
       "0.394522"
      ],
      "text/plain": [
       "[1] 0.394522"
      ]
     },
     "metadata": {},
     "output_type": "display_data"
    }
   ],
   "source": [
    "pdu_wRF = wRF.dist(pdu_core_tree, pdu_region_tree)\n",
    "pdu_wRF"
   ]
  },
  {
   "cell_type": "code",
   "execution_count": 32,
   "metadata": {},
   "outputs": [
    {
     "data": {
      "image/png": "[encoded data removed]",
      "text/plain": [
       "Plot with title “Histogram of RF_vals”"
      ]
     },
     "metadata": {},
     "output_type": "display_data"
    }
   ],
   "source": [
    "options(repr.plot.width=4, repr.plot.height=4)\n",
    "hist(RF_vals, breaks = 100, col = \"dodgerblue1\")\n",
    "abline(v = pdu_wRF,lwd = 2, col = \"green\")"
   ]
  },
  {
   "cell_type": "markdown",
   "metadata": {},
   "source": [
    "# [21.09] Посчитаем деревья для кор-регионов подрядидущих ортогрупп"
   ]
  },
  {
   "cell_type": "code",
   "execution_count": 1,
   "metadata": {},
   "outputs": [],
   "source": [
    "import pandas as pd"
   ]
  },
  {
   "cell_type": "code",
   "execution_count": 3,
   "metadata": {},
   "outputs": [],
   "source": [
    "og = pd.read_csv(\"orthosnake/pdu/Results/Orthogroups.tsv\", sep=\"\\t\", header = None)"
   ]
  },
  {
   "cell_type": "code",
   "execution_count": 4,
   "metadata": {},
   "outputs": [],
   "source": [
    "core_og_pd =  pd.read_csv(\"orthosnake/pdu/Results/Orthogroups_SingleCopyOrthologues.txt\", header = None)\n",
    "core_og = core_og_pd[0].to_list()"
   ]
  },
  {
   "cell_type": "code",
   "execution_count": 5,
   "metadata": {},
   "outputs": [],
   "source": [
    "core_og_pd = og[og[0].isin(core_og)]\n",
    "core_og_in_genome = core_og_pd[1]\n",
    "og_by_cds = dict(zip(core_og_in_genome, core_og_pd[0]))\n",
    "\n",
    "#core_og_in_genome[0:3]"
   ]
  },
  {
   "cell_type": "code",
   "execution_count": 6,
   "metadata": {},
   "outputs": [],
   "source": [
    "ids = [int(cds.split(\"|\")[1]) for cds in core_og_in_genome]\n",
    "og_by_id = {int(cds.split(\"|\")[1]):og_by_cds[cds] for cds in core_og_in_genome}\n"
   ]
  },
  {
   "cell_type": "markdown",
   "metadata": {},
   "source": [
    "возьмем подряд идущие ОГ-ки (согласно первому попавшемуся штамму). Длину серии возьмем минимум 5"
   ]
  },
  {
   "cell_type": "code",
   "execution_count": 8,
   "metadata": {},
   "outputs": [
    {
     "data": {
      "text/plain": [
       "[['OG0000875', 'OG0000876', 'OG0000877', 'OG0000878', 'OG0000879'],\n",
       " ['OG0000885',\n",
       "  'OG0000886',\n",
       "  'OG0000887',\n",
       "  'OG0000888',\n",
       "  'OG0000889',\n",
       "  'OG0000890',\n",
       "  'OG0000891',\n",
       "  'OG0000892'],\n",
       " ['OG0000893', 'OG0000894', 'OG0000895', 'OG0000896']]"
      ]
     },
     "execution_count": 8,
     "metadata": {},
     "output_type": "execute_result"
    }
   ],
   "source": [
    "from itertools import groupby\n",
    "from operator import itemgetter\n",
    "og_core_sets = []\n",
    "for k, g in groupby(enumerate(ids), lambda ix : ix[0] - ix[1]):\n",
    "    ids_seq = list(map(itemgetter(1), g))\n",
    "    if(len(ids_seq) < 4): \n",
    "        continue\n",
    "    og_core_sets.append([og_by_id[x] for x in ids_seq])\n",
    "og_core_sets[0:3]"
   ]
  },
  {
   "cell_type": "markdown",
   "metadata": {},
   "source": [
    "### write to files"
   ]
  },
  {
   "cell_type": "code",
   "execution_count": 70,
   "metadata": {},
   "outputs": [],
   "source": [
    "!mkdir -p tree_to_compare/\n",
    "!mkdir -p tree_to_compare/pdu\n",
    "!mkdir -p tree_to_compare/pdu/og_lists/`"
   ]
  },
  {
   "cell_type": "code",
   "execution_count": 71,
   "metadata": {},
   "outputs": [],
   "source": [
    "i = 0\n",
    "for og_core_set in og_core_sets:\n",
    "    fname = \"tree_to_compare/pdu/og_lists/{}\".format(i)\n",
    "    i = i + 1\n",
    "    with open(fname, 'w') as filehandle:\n",
    "        for x in og_core_set:\n",
    "            filehandle.write('%s\\n' % x)\n"
   ]
  },
  {
   "cell_type": "code",
   "execution_count": 13,
   "metadata": {},
   "outputs": [
    {
     "name": "stdout",
     "output_type": "stream",
     "text": [
      "0\t5\n",
      "1\t8\n",
      "2\t4\n",
      "3\t5\n",
      "4\t5\n",
      "5\t5\n",
      "6\t16\n",
      "7\t9\n",
      "8\t19\n",
      "9\t6\n",
      "10\t8\n",
      "11\t8\n",
      "12\t5\n",
      "13\t5\n",
      "14\t8\n",
      "15\t4\n",
      "16\t4\n",
      "17\t5\n",
      "18\t6\n",
      "19\t10\n",
      "20\t6\n",
      "21\t16\n",
      "22\t8\n",
      "23\t6\n",
      "24\t6\n",
      "25\t4\n",
      "26\t6\n",
      "27\t4\n",
      "28\t4\n",
      "29\t6\n",
      "30\t8\n",
      "31\t5\n",
      "32\t5\n",
      "33\t7\n",
      "34\t4\n",
      "35\t6\n",
      "36\t6\n",
      "37\t5\n",
      "38\t14\n",
      "39\t12\n",
      "40\t9\n",
      "41\t5\n",
      "42\t7\n",
      "43\t18\n",
      "44\t9\n",
      "45\t10\n",
      "46\t4\n",
      "47\t4\n",
      "48\t9\n",
      "49\t9\n",
      "50\t7\n",
      "51\t11\n",
      "52\t4\n",
      "53\t4\n",
      "54\t10\n",
      "55\t10\n",
      "56\t6\n",
      "57\t6\n",
      "58\t11\n",
      "59\t4\n",
      "60\t9\n",
      "61\t8\n",
      "62\t5\n",
      "63\t5\n",
      "64\t6\n",
      "65\t4\n",
      "66\t4\n",
      "67\t4\n",
      "68\t4\n",
      "69\t4\n",
      "70\t4\n",
      "71\t6\n",
      "72\t11\n",
      "73\t6\n",
      "74\t4\n",
      "75\t13\n",
      "76\t4\n",
      "77\t4\n",
      "78\t5\n",
      "79\t6\n",
      "80\t9\n",
      "81\t6\n",
      "82\t6\n",
      "83\t4\n",
      "84\t4\n",
      "85\t10\n",
      "86\t4\n",
      "87\t6\n",
      "88\t18\n",
      "89\t5\n",
      "90\t5\n",
      "91\t4\n",
      "92\t6\n",
      "93\t8\n",
      "94\t5\n",
      "95\t4\n",
      "96\t8\n",
      "97\t5\n",
      "98\t4\n",
      "99\t5\n",
      "100\t6\n",
      "101\t5\n",
      "102\t6\n",
      "103\t4\n",
      "104\t5\n",
      "105\t20\n",
      "106\t9\n",
      "107\t4\n",
      "108\t7\n",
      "109\t14\n",
      "110\t7\n",
      "111\t8\n",
      "112\t9\n",
      "113\t7\n",
      "114\t5\n",
      "115\t4\n",
      "116\t5\n",
      "117\t4\n",
      "118\t6\n",
      "119\t8\n",
      "120\t18\n",
      "121\t4\n",
      "122\t8\n",
      "123\t6\n",
      "124\t6\n",
      "125\t4\n",
      "126\t7\n",
      "127\t4\n",
      "128\t14\n",
      "129\t4\n",
      "130\t4\n",
      "131\t7\n",
      "132\t8\n",
      "133\t4\n",
      "134\t5\n",
      "135\t5\n",
      "136\t9\n",
      "137\t4\n",
      "138\t5\n",
      "139\t8\n",
      "140\t4\n",
      "141\t12\n",
      "142\t7\n",
      "143\t6\n",
      "144\t12\n",
      "145\t7\n",
      "146\t11\n",
      "147\t4\n",
      "148\t5\n",
      "149\t15\n",
      "150\t6\n",
      "151\t7\n",
      "152\t4\n",
      "153\t6\n",
      "154\t11\n",
      "155\t5\n",
      "156\t5\n",
      "157\t8\n",
      "158\t5\n",
      "159\t4\n",
      "160\t13\n",
      "161\t25\n",
      "162\t4\n",
      "163\t9\n",
      "164\t7\n",
      "165\t17\n",
      "166\t7\n",
      "167\t14\n",
      "168\t5\n",
      "169\t4\n",
      "170\t4\n",
      "171\t4\n",
      "172\t4\n",
      "173\t4\n",
      "174\t20\n",
      "175\t7\n",
      "176\t9\n",
      "177\t6\n",
      "178\t4\n",
      "179\t6\n",
      "180\t15\n",
      "181\t10\n",
      "182\t4\n",
      "183\t5\n",
      "184\t4\n",
      "185\t4\n",
      "186\t5\n",
      "187\t9\n",
      "188\t6\n",
      "189\t5\n",
      "190\t6\n",
      "191\t5\n",
      "192\t6\n",
      "193\t11\n",
      "194\t22\n",
      "195\t8\n",
      "196\t4\n",
      "197\t11\n",
      "198\t7\n",
      "199\t5\n",
      "200\t5\n",
      "201\t5\n",
      "202\t4\n",
      "203\t5\n",
      "204\t8\n",
      "205\t5\n",
      "206\t5\n",
      "207\t6\n",
      "208\t4\n",
      "209\t4\n",
      "210\t14\n",
      "211\t5\n",
      "212\t4\n",
      "213\t13\n",
      "214\t4\n",
      "215\t4\n",
      "216\t4\n",
      "217\t8\n",
      "218\t4\n",
      "219\t7\n",
      "220\t4\n",
      "221\t8\n",
      "222\t11\n",
      "223\t17\n"
     ]
    }
   ],
   "source": [
    "i = 0\n",
    "with open(\"tree_to_compare/pdu/list_length.tsv\", 'w') as filehandle:\n",
    "    [print(\"{}\\t{}\".format(i, len(x))) for i,x in enumerate(og_core_sets)]\n",
    "    "
   ]
  },
  {
   "cell_type": "markdown",
   "metadata": {},
   "source": [
    "## [16.09]"
   ]
  },
  {
   "cell_type": "markdown",
   "metadata": {},
   "source": [
    "### найдем опероны для какого-нибудь штамма (ЛФ82?)"
   ]
  },
  {
   "cell_type": "code",
   "execution_count": 4,
   "metadata": {},
   "outputs": [
    {
     "name": "stdout",
     "output_type": "stream",
     "text": [
      "genomes_with_regions/pdu/GCF_000284495.1_ASM28449v1_genomic.fna:>NC_011993.1 Escherichia coli LF82, complete genome\n"
     ]
    }
   ],
   "source": [
    "grep \"LF82\" genomes_with_regions/pdu/*"
   ]
  },
  {
   "cell_type": "code",
   "execution_count": null,
   "metadata": {},
   "outputs": [],
   "source": [
    "ls /data11/bio/runs-manolov/from_7a/runs-manolov/ecoli_crohn/analyse/\n"
   ]
  }
 ],
 "metadata": {
  "kernelspec": {
   "display_name": "Python 3",
   "language": "python",
   "name": "python3"
  },
  "language_info": {
   "codemirror_mode": {
    "name": "ipython",
    "version": 3
   },
   "file_extension": ".py",
   "mimetype": "text/x-python",
   "name": "python",
   "nbconvert_exporter": "python",
   "pygments_lexer": "ipython3",
   "version": "3.7.4"
  }
 },
 "nbformat": 4,
 "nbformat_minor": 4
}
