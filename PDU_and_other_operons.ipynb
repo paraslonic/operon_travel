{
 "cells": [
  {
   "cell_type": "markdown",
   "metadata": {},
   "source": [
    "# Оперон PDU сравним с другими оперонами в том же наборе штаммов\n",
    "***"
   ]
  },
  {
   "cell_type": "markdown",
   "metadata": {},
   "source": [
    "# [21.09]"
   ]
  },
  {
   "cell_type": "code",
   "execution_count": 1,
   "metadata": {},
   "outputs": [],
   "source": [
    "import pandas as pd"
   ]
  },
  {
   "cell_type": "code",
   "execution_count": 57,
   "metadata": {},
   "outputs": [],
   "source": [
    "og = pd.read_csv(\"orthosnake/pdu/Results/Orthogroups.tsv\", sep=\"\\t\", header = None)"
   ]
  },
  {
   "cell_type": "code",
   "execution_count": 18,
   "metadata": {},
   "outputs": [],
   "source": [
    "core_og_pd =  pd.read_csv(\"orthosnake/pdu/Results/Orthogroups_SingleCopyOrthologues.txt\", header = None)\n",
    "core_og = core_og_pd[0].to_list()"
   ]
  },
  {
   "cell_type": "code",
   "execution_count": 43,
   "metadata": {},
   "outputs": [],
   "source": [
    "core_og_pd = og[og[0].isin(core_og)]\n",
    "core_og_in_genome = core_og_pd[1]\n",
    "og_by_cds = dict(zip(core_og_in_genome, core_og_pd[0]))\n",
    "\n",
    "#core_og_in_genome[0:3]"
   ]
  },
  {
   "cell_type": "code",
   "execution_count": 50,
   "metadata": {},
   "outputs": [],
   "source": [
    "ids = [int(cds.split(\"|\")[1]) for cds in core_og_in_genome]\n",
    "og_by_id = {int(cds.split(\"|\")[1]):og_by_cds[cds] for cds in core_og_in_genome}\n"
   ]
  },
  {
   "cell_type": "code",
   "execution_count": 68,
   "metadata": {},
   "outputs": [
    {
     "data": {
      "text/plain": [
       "[['OG0000875', 'OG0000876', 'OG0000877', 'OG0000878', 'OG0000879'],\n",
       " ['OG0000885',\n",
       "  'OG0000886',\n",
       "  'OG0000887',\n",
       "  'OG0000888',\n",
       "  'OG0000889',\n",
       "  'OG0000890',\n",
       "  'OG0000891',\n",
       "  'OG0000892'],\n",
       " ['OG0000893', 'OG0000894', 'OG0000895', 'OG0000896']]"
      ]
     },
     "execution_count": 68,
     "metadata": {},
     "output_type": "execute_result"
    }
   ],
   "source": [
    "from itertools import groupby\n",
    "from operator import itemgetter\n",
    "og_core_sets = []\n",
    "for k, g in groupby(enumerate(ids), lambda ix : ix[0] - ix[1]):\n",
    "    ids_seq = list(map(itemgetter(1), g))\n",
    "    if(len(ids_seq) < 4): \n",
    "        continue\n",
    "    og_core_sets.append([og_by_id[x] for x in ids_seq])\n",
    "og_core_sets[0:3]"
   ]
  },
  {
   "cell_type": "markdown",
   "metadata": {},
   "source": [
    "### write to files"
   ]
  },
  {
   "cell_type": "code",
   "execution_count": 70,
   "metadata": {},
   "outputs": [],
   "source": [
    "!mkdir -p tree_to_compare/\n",
    "!mkdir -p tree_to_compare/pdu\n",
    "!mkdir -p tree_to_compare/pdu/og_lists/`"
   ]
  },
  {
   "cell_type": "code",
   "execution_count": null,
   "metadata": {},
   "outputs": [],
   "source": [
    "i = 0\n",
    "for og_core_set in og_core_sets:\n",
    "    fname = \"tree_to_compare/pdu/og_lists/{}\".format(i)\n",
    "    i = i + 1\n",
    "    with open(fname, 'w') as filehandle:\n",
    "        for x in og_core_set:\n",
    "            filehandle.write('%s\\n' % x)\n"
   ]
  },
  {
   "cell_type": "markdown",
   "metadata": {},
   "source": [
    "## [16.09]"
   ]
  },
  {
   "cell_type": "markdown",
   "metadata": {},
   "source": [
    "### найдем опероны для какого-нибудь штамма (ЛФ82?)"
   ]
  },
  {
   "cell_type": "code",
   "execution_count": 4,
   "metadata": {},
   "outputs": [
    {
     "name": "stdout",
     "output_type": "stream",
     "text": [
      "genomes_with_regions/pdu/GCF_000284495.1_ASM28449v1_genomic.fna:>NC_011993.1 Escherichia coli LF82, complete genome\n"
     ]
    }
   ],
   "source": [
    "grep \"LF82\" genomes_with_regions/pdu/*"
   ]
  },
  {
   "cell_type": "code",
   "execution_count": null,
   "metadata": {},
   "outputs": [],
   "source": [
    "ls /data11/bio/runs-manolov/from_7a/runs-manolov/ecoli_crohn/analyse/\n"
   ]
  }
 ],
 "metadata": {
  "kernelspec": {
   "display_name": "Python 3",
   "language": "python",
   "name": "python3"
  },
  "language_info": {
   "codemirror_mode": {
    "name": "ipython",
    "version": 3
   },
   "file_extension": ".py",
   "mimetype": "text/x-python",
   "name": "python",
   "nbconvert_exporter": "python",
   "pygments_lexer": "ipython3",
   "version": "3.7.4"
  }
 },
 "nbformat": 4,
 "nbformat_minor": 4
}
