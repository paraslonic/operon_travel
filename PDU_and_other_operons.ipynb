{
 "cells": [
  {
   "cell_type": "markdown",
   "metadata": {},
   "source": [
    "# Оперон PDU сравним с другими оперонами в том же наборе штаммов\n",
    "***"
   ]
  },
  {
   "cell_type": "markdown",
   "metadata": {},
   "source": [
    "# [22.09] Попробуем другие метрики"
   ]
  },
  {
   "cell_type": "code",
   "execution_count": 86,
   "metadata": {},
   "outputs": [],
   "source": [
    "#install.packages(\"treeman\")\n",
    "library(\"treeman\")"
   ]
  },
  {
   "cell_type": "code",
   "execution_count": 87,
   "metadata": {},
   "outputs": [
    {
     "ename": "ERROR",
     "evalue": "Error in eval(expr, envir, enclos): object 'tree' not found\n",
     "output_type": "error",
     "traceback": [
      "Error in eval(expr, envir, enclos): object 'tree' not found\nTraceback:\n"
     ]
    }
   ],
   "source": [
    "pdu_region_tree <- read.tree(\"studio/pdu/pdu.fasta.raxml.bestTreeCollapsed\")"
   ]
  },
  {
   "cell_type": "code",
   "execution_count": 103,
   "metadata": {},
   "outputs": [
    {
     "data": {
      "image/png": "[encoded data removed]",
      "text/plain": [
       "plot without title"
      ]
     },
     "metadata": {},
     "output_type": "display_data"
    }
   ],
   "source": [
    "plot(pdu_region_tree, cex = 0.1)"
   ]
  },
  {
   "cell_type": "code",
   "execution_count": 101,
   "metadata": {},
   "outputs": [
    {
     "ename": "ERROR",
     "evalue": "Error in as.double(y): cannot coerce type 'S4' to vector of type 'double'\n",
     "output_type": "error",
     "traceback": [
      "Error in as.double(y): cannot coerce type 'S4' to vector of type 'double'\nTraceback:\n",
      "1. plot(tree)",
      "2. plot.default(tree)",
      "3. xy.coords(x, y, xlabel, ylabel, log)"
     ]
    }
   ],
   "source": [
    "tree = pdu_region_tree\n",
    "tree <- as(tree, 'TreeMan')\n",
    "nids <- tree['nds']"
   ]
  },
  {
   "cell_type": "code",
   "execution_count": null,
   "metadata": {},
   "outputs": [],
   "source": [
    "res <- getNdsKids(tree, ids=nids)\n",
    "# add children for each tip, which is just the tip, for consistency\n",
    "res[tree['tips']] <- tree['tips']\n",
    "print(res)"
   ]
  },
  {
   "cell_type": "markdown",
   "metadata": {},
   "source": [
    "# [21.09] Нарисуем гистограмму значений метрик для разных деревьев (R)"
   ]
  },
  {
   "cell_type": "code",
   "execution_count": 5,
   "metadata": {},
   "outputs": [
    {
     "name": "stderr",
     "output_type": "stream",
     "text": [
      "Loading required package: ape\n"
     ]
    }
   ],
   "source": [
    "library(\"phangorn\")"
   ]
  },
  {
   "cell_type": "code",
   "execution_count": 53,
   "metadata": {},
   "outputs": [],
   "source": [
    "pdu_core_tree <- read.tree(\"studio/pdu/core_pdu_aligned.fasta.raxml.bestTreeCollapsed\")\n",
    "pdu_region_tree <- read.tree(\"studio/pdu/pdu.fasta.raxml.bestTreeCollapsed\")"
   ]
  },
  {
   "cell_type": "code",
   "execution_count": 54,
   "metadata": {},
   "outputs": [],
   "source": [
    "list_tree_files = list.files(\"tree_to_compare//pdu/trees/\", \"*.bestTreeCollapsed$\",full.names = T)\n",
    "list_tree = lapply(list_tree_files, read.tree)"
   ]
  },
  {
   "cell_type": "code",
   "execution_count": 58,
   "metadata": {},
   "outputs": [
    {
     "data": {
      "text/plain": [
       "R Information\n",
       "\n",
       "Help files with alias or concept or title matching ‘treedist’ using\n",
       "fuzzy matching:\n",
       "\n",
       "\n",
       "phangorn::treedist      Distances between trees\n",
       "  Aliases: treedist\n",
       "phytools::averageTree   Compute an average tree from a set of trees and\n",
       "                        related operations\n",
       "  Aliases: minTreeDist\n",
       "\n",
       "\n",
       "Type '?PKG::FOO' to inspect entries 'PKG::FOO', or 'TYPE?PKG::FOO' for\n",
       "entries like 'PKG::FOO-TYPE'.\n",
       "\n",
       "\n"
      ]
     },
     "metadata": {},
     "output_type": "display_data"
    }
   ],
   "source": [
    "??treedist"
   ]
  },
  {
   "cell_type": "code",
   "execution_count": 69,
   "metadata": {},
   "outputs": [],
   "source": [
    "treedist = function(tree1, tree2){\n",
    "    tree1 = multi2di(tree1, random = TRUE)\n",
    "    tree2 = multi2di(tree2, random = TRUE)\n",
    "    dist = RF.dist(tree1, tree2, normalize = TRUE)\n",
    "    return(dist)\n",
    "}"
   ]
  },
  {
   "cell_type": "code",
   "execution_count": 70,
   "metadata": {},
   "outputs": [
    {
     "data": {
      "text/html": [
       "0.605263157894737"
      ],
      "text/latex": [
       "0.605263157894737"
      ],
      "text/markdown": [
       "0.605263157894737"
      ],
      "text/plain": [
       "[1] 0.6052632"
      ]
     },
     "metadata": {},
     "output_type": "display_data"
    }
   ],
   "source": [
    "RF_vals = sapply(list_tree, function(x){return(treedist(pdu_core_tree, x))})\n",
    "pdu_wRF = treedist(pdu_core_tree, pdu_region_tree)\n",
    "pdu_wRF"
   ]
  },
  {
   "cell_type": "code",
   "execution_count": 64,
   "metadata": {},
   "outputs": [
    {
     "data": {
      "text/html": [
       "1.37283656773048"
      ],
      "text/latex": [
       "1.37283656773048"
      ],
      "text/markdown": [
       "1.37283656773048"
      ],
      "text/plain": [
       "[1] 1.372837"
      ]
     },
     "metadata": {},
     "output_type": "display_data"
    }
   ],
   "source": [
    "RF_vals = sapply(list_tree, function(x){return(path.dist(pdu_core_tree, x,use.weight = T))})\n",
    "pdu_wRF = path.dist(pdu_core_tree, pdu_region_tree,use.weight = T)\n",
    "pdu_wRF"
   ]
  },
  {
   "cell_type": "code",
   "execution_count": 43,
   "metadata": {},
   "outputs": [
    {
     "data": {
      "text/html": [
       "<table>\n",
       "<thead><tr><th scope=col>V1</th><th scope=col>V2</th></tr></thead>\n",
       "<tbody>\n",
       "\t<tr><td>0</td><td>5</td></tr>\n",
       "\t<tr><td>1</td><td>8</td></tr>\n",
       "\t<tr><td>2</td><td>4</td></tr>\n",
       "</tbody>\n",
       "</table>\n"
      ],
      "text/latex": [
       "\\begin{tabular}{r|ll}\n",
       " V1 & V2\\\\\n",
       "\\hline\n",
       "\t 0 & 5\\\\\n",
       "\t 1 & 8\\\\\n",
       "\t 2 & 4\\\\\n",
       "\\end{tabular}\n"
      ],
      "text/markdown": [
       "\n",
       "| V1 | V2 |\n",
       "|---|---|\n",
       "| 0 | 5 |\n",
       "| 1 | 8 |\n",
       "| 2 | 4 |\n",
       "\n"
      ],
      "text/plain": [
       "  V1 V2\n",
       "1 0  5 \n",
       "2 1  8 \n",
       "3 2  4 "
      ]
     },
     "metadata": {},
     "output_type": "display_data"
    }
   ],
   "source": [
    "list_len = read.delim(\"tree_to_compare/pdu/list_length.tsv\", head = F)\n",
    "list_len[0:3,]"
   ]
  },
  {
   "cell_type": "code",
   "execution_count": 72,
   "metadata": {},
   "outputs": [
    {
     "data": {
      "image/png": "[encoded data removed]",
      "text/plain": [
       "plot without title"
      ]
     },
     "metadata": {},
     "output_type": "display_data"
    }
   ],
   "source": [
    "plot(list_len[,2],RF_vals, pch=19, col = rgb(0.1,0.1,0.1,0.5), cex = 0.5, xlab = \"region length (genes)\", ylab = \"wRF tree distance\")\n",
    "points(18, pdu_wRF, col = \"blue\", pch=19)"
   ]
  },
  {
   "cell_type": "code",
   "execution_count": 21,
   "metadata": {},
   "outputs": [
    {
     "data": {
      "text/plain": [
       "\n",
       "\tPearson's product-moment correlation\n",
       "\n",
       "data:  list_len[, 2] and RF_vals\n",
       "t = -0.49025, df = 222, p-value = 0.6244\n",
       "alternative hypothesis: true correlation is not equal to 0\n",
       "95 percent confidence interval:\n",
       " -0.16326462  0.09862237\n",
       "sample estimates:\n",
       "        cor \n",
       "-0.03288559 \n"
      ]
     },
     "metadata": {},
     "output_type": "display_data"
    }
   ],
   "source": [
    "cor.test(list_len[,2],RF_vals)"
   ]
  },
  {
   "cell_type": "markdown",
   "metadata": {},
   "source": [
    "# [21.09] Посчитаем деревья для кор-регионов подрядидущих ортогрупп"
   ]
  },
  {
   "cell_type": "code",
   "execution_count": 1,
   "metadata": {},
   "outputs": [],
   "source": [
    "import pandas as pd"
   ]
  },
  {
   "cell_type": "code",
   "execution_count": 3,
   "metadata": {},
   "outputs": [],
   "source": [
    "og = pd.read_csv(\"orthosnake/pdu/Results/Orthogroups.tsv\", sep=\"\\t\", header = None)"
   ]
  },
  {
   "cell_type": "code",
   "execution_count": 4,
   "metadata": {},
   "outputs": [],
   "source": [
    "core_og_pd =  pd.read_csv(\"orthosnake/pdu/Results/Orthogroups_SingleCopyOrthologues.txt\", header = None)\n",
    "core_og = core_og_pd[0].to_list()"
   ]
  },
  {
   "cell_type": "code",
   "execution_count": 5,
   "metadata": {},
   "outputs": [],
   "source": [
    "core_og_pd = og[og[0].isin(core_og)]\n",
    "core_og_in_genome = core_og_pd[1]\n",
    "og_by_cds = dict(zip(core_og_in_genome, core_og_pd[0]))\n",
    "\n",
    "#core_og_in_genome[0:3]"
   ]
  },
  {
   "cell_type": "code",
   "execution_count": 6,
   "metadata": {},
   "outputs": [],
   "source": [
    "ids = [int(cds.split(\"|\")[1]) for cds in core_og_in_genome]\n",
    "og_by_id = {int(cds.split(\"|\")[1]):og_by_cds[cds] for cds in core_og_in_genome}\n"
   ]
  },
  {
   "cell_type": "markdown",
   "metadata": {},
   "source": [
    "возьмем подряд идущие ОГ-ки (согласно первому попавшемуся штамму). Длину серии возьмем минимум 5"
   ]
  },
  {
   "cell_type": "code",
   "execution_count": 8,
   "metadata": {},
   "outputs": [
    {
     "data": {
      "text/plain": [
       "[['OG0000875', 'OG0000876', 'OG0000877', 'OG0000878', 'OG0000879'],\n",
       " ['OG0000885',\n",
       "  'OG0000886',\n",
       "  'OG0000887',\n",
       "  'OG0000888',\n",
       "  'OG0000889',\n",
       "  'OG0000890',\n",
       "  'OG0000891',\n",
       "  'OG0000892'],\n",
       " ['OG0000893', 'OG0000894', 'OG0000895', 'OG0000896']]"
      ]
     },
     "execution_count": 8,
     "metadata": {},
     "output_type": "execute_result"
    }
   ],
   "source": [
    "from itertools import groupby\n",
    "from operator import itemgetter\n",
    "og_core_sets = []\n",
    "for k, g in groupby(enumerate(ids), lambda ix : ix[0] - ix[1]):\n",
    "    ids_seq = list(map(itemgetter(1), g))\n",
    "    if(len(ids_seq) < 4): \n",
    "        continue\n",
    "    og_core_sets.append([og_by_id[x] for x in ids_seq])\n",
    "og_core_sets[0:3]"
   ]
  },
  {
   "cell_type": "markdown",
   "metadata": {},
   "source": [
    "### write to files"
   ]
  },
  {
   "cell_type": "code",
   "execution_count": 70,
   "metadata": {},
   "outputs": [],
   "source": [
    "!mkdir -p tree_to_compare/\n",
    "!mkdir -p tree_to_compare/pdu\n",
    "!mkdir -p tree_to_compare/pdu/og_lists/`"
   ]
  },
  {
   "cell_type": "code",
   "execution_count": 71,
   "metadata": {},
   "outputs": [],
   "source": [
    "i = 0\n",
    "for og_core_set in og_core_sets:\n",
    "    fname = \"tree_to_compare/pdu/og_lists/{}\".format(i)\n",
    "    i = i + 1\n",
    "    with open(fname, 'w') as filehandle:\n",
    "        for x in og_core_set:\n",
    "            filehandle.write('%s\\n' % x)\n"
   ]
  },
  {
   "cell_type": "code",
   "execution_count": 14,
   "metadata": {},
   "outputs": [],
   "source": [
    "i = 0\n",
    "with open(\"tree_to_compare/pdu/list_length.tsv\", 'w') as filehandle:\n",
    "    [filehandle.write(\"{}\\t{}\\n\".format(i, len(x))) for i,x in enumerate(og_core_sets)]\n",
    "    "
   ]
  },
  {
   "cell_type": "markdown",
   "metadata": {},
   "source": [
    "## [16.09]"
   ]
  },
  {
   "cell_type": "markdown",
   "metadata": {},
   "source": [
    "### найдем опероны для какого-нибудь штамма (ЛФ82?)"
   ]
  },
  {
   "cell_type": "code",
   "execution_count": 4,
   "metadata": {},
   "outputs": [
    {
     "name": "stdout",
     "output_type": "stream",
     "text": [
      "genomes_with_regions/pdu/GCF_000284495.1_ASM28449v1_genomic.fna:>NC_011993.1 Escherichia coli LF82, complete genome\n"
     ]
    }
   ],
   "source": [
    "grep \"LF82\" genomes_with_regions/pdu/*"
   ]
  },
  {
   "cell_type": "code",
   "execution_count": null,
   "metadata": {},
   "outputs": [],
   "source": [
    "ls /data11/bio/runs-manolov/from_7a/runs-manolov/ecoli_crohn/analyse/\n"
   ]
  }
 ],
 "metadata": {
  "kernelspec": {
   "display_name": "R",
   "language": "R",
   "name": "ir"
  },
  "language_info": {
   "codemirror_mode": "r",
   "file_extension": ".r",
   "mimetype": "text/x-r-source",
   "name": "R",
   "pygments_lexer": "r",
   "version": "3.6.3"
  }
 },
 "nbformat": 4,
 "nbformat_minor": 4
}
