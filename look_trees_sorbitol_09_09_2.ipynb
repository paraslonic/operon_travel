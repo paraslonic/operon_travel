{
 "cells": [
  {
   "cell_type": "markdown",
   "metadata": {},
   "source": [
    "## CORE"
   ]
  },
  {
   "cell_type": "code",
   "execution_count": 18,
   "metadata": {},
   "outputs": [
    {
     "name": "stdout",
     "output_type": "stream",
     "text": [
      "-rw-rw-r-- 1 manolov manolov 234M Aug 27 14:58 orthosnake/sorbitol/tmp/coreogaligned.fasta\n"
     ]
    }
   ],
   "source": [
    "core=\"orthosnake/sorbitol/tmp/coreogaligned.fasta\"\n",
    "ll -h $core"
   ]
  },
  {
   "cell_type": "code",
   "execution_count": 19,
   "metadata": {},
   "outputs": [
    {
     "name": "stdout",
     "output_type": "stream",
     "text": [
      "[2] 90087\n"
     ]
    },
    {
     "ename": "",
     "evalue": "1",
     "output_type": "error",
     "traceback": []
    }
   ],
   "source": [
    "mkdir -p logs\n",
    "nohup /data/ps/soft/raxml-ng_v1.0.0_linux_x86_64/./raxml-ng --msa $core --model GTR+G+I --all --threads 20 > logs/log_core_raxml_sorbitol &"
   ]
  },
  {
   "cell_type": "code",
   "execution_count": 25,
   "metadata": {},
   "outputs": [
    {
     "name": "stdout",
     "output_type": "stream",
     "text": [
      "Best ML tree with Felsenstein bootstrap (FBP) support values saved to: /data/ps/operon_travel/orthosnake/sorbitol/tmp/coreogaligned.fasta.raxml.support\n",
      "Optimized model saved to: /data/ps/operon_travel/orthosnake/sorbitol/tmp/coreogaligned.fasta.raxml.bestModel\n",
      "Bootstrap trees saved to: /data/ps/operon_travel/orthosnake/sorbitol/tmp/coreogaligned.fasta.raxml.bootstraps\n",
      "\n",
      "Execution log saved to: /data/ps/operon_travel/orthosnake/sorbitol/tmp/coreogaligned.fasta.raxml.log\n",
      "\n",
      "Analysis started: 09-Sep-2020 19:40:46 / finished: 10-Sep-2020 07:37:17\n",
      "\n",
      "Elapsed time: 42990.886 seconds\n",
      "\n"
     ]
    }
   ],
   "source": [
    "tail  logs/log_core_raxml_sorbitol"
   ]
  },
  {
   "cell_type": "markdown",
   "metadata": {},
   "source": [
    "## OPERON"
   ]
  },
  {
   "cell_type": "code",
   "execution_count": 21,
   "metadata": {},
   "outputs": [
    {
     "name": "stdout",
     "output_type": "stream",
     "text": [
      "-rw-rw-r-- 1 manolov manolov 374125 Aug 27 14:58 tmp/og_in_region/sorbitol/sorbitol.fasta\n",
      "-rw-rw-r-- 1 manolov manolov 366K Aug 27 14:58 tmp/og_in_region/sorbitol/sorbitol.fasta\n"
     ]
    }
   ],
   "source": [
    "region_aligned=\"tmp/og_in_region/sorbitol/sorbitol.fasta\"\n",
    "ll -h $region_aligned"
   ]
  },
  {
   "cell_type": "code",
   "execution_count": 22,
   "metadata": {},
   "outputs": [
    {
     "name": "stdout",
     "output_type": "stream",
     "text": [
      "[3] 90325\n"
     ]
    },
    {
     "ename": "",
     "evalue": "1",
     "output_type": "error",
     "traceback": []
    }
   ],
   "source": [
    "nohup /data/ps/soft/raxml-ng_v1.0.0_linux_x86_64/./raxml-ng --msa $region_aligned --model GTR+G+I --all --threads 20 > logs/log_region_raxml_sorbitol &"
   ]
  },
  {
   "cell_type": "code",
   "execution_count": 28,
   "metadata": {},
   "outputs": [
    {
     "name": "stdout",
     "output_type": "stream",
     "text": [
      "\n",
      "[00:00:00] Generating 10 random starting tree(s) with 99 taxa\n",
      "[00:00:00] Generating 10 parsimony starting tree(s) with 99 taxa\n",
      "[00:00:00] Data distribution: max. partitions/sites/weight per thread: 1 / 349 / 5584\n",
      "[00:00:00] Data distribution: max. searches per worker: 51\n",
      "\n",
      "ERROR: CPU core oversubscription detected! RAxML-NG will terminate now to avoid wasting resources.\n",
      "NOTE:  Details: https://github.com/amkozlov/raxml-ng/wiki/Parallelization#core-oversubscription\n",
      "NOTE:  You can use '--force perf_threads' to disable this check, but ONLY if you are 200% sure this is a false alarm!\n",
      "\n"
     ]
    }
   ],
   "source": [
    "tail logs/log_region_raxml_sorbitol"
   ]
  },
  {
   "cell_type": "markdown",
   "metadata": {},
   "source": [
    "# go pyxis"
   ]
  },
  {
   "cell_type": "code",
   "execution_count": 30,
   "metadata": {},
   "outputs": [],
   "source": [
    "mkdir -p /data12/bio/runs-manolov/operon_travel/studio/sorbitol\n",
    "cp $region_aligned /data12/bio/runs-manolov/operon_travel/studio/sorbitol/sorbitol_aligned.fasta\n",
    "cp $core /data12/bio/runs-manolov/operon_travel/studio/sorbitol/core_sorbitol_aligned.fasta"
   ]
  },
  {
   "cell_type": "code",
   "execution_count": 34,
   "metadata": {},
   "outputs": [],
   "source": [
    "cp orthosnake/sorbitol/tmp/coreogaligned.fasta.raxml* /data12/bio/runs-manolov/operon_travel/studio/sorbitol/"
   ]
  },
  {
   "cell_type": "markdown",
   "metadata": {},
   "source": [
    "# RESULTS"
   ]
  },
  {
   "cell_type": "markdown",
   "metadata": {},
   "source": [
    "## Full compare"
   ]
  },
  {
   "cell_type": "code",
   "execution_count": null,
   "metadata": {},
   "outputs": [],
   "source": [
    "ls studio/sorb\n",
    "![](studio/so)"
   ]
  }
 ],
 "metadata": {
  "kernelspec": {
   "display_name": "Bash",
   "language": "bash",
   "name": "bash"
  },
  "language_info": {
   "codemirror_mode": "shell",
   "file_extension": ".sh",
   "mimetype": "text/x-sh",
   "name": "bash"
  }
 },
 "nbformat": 4,
 "nbformat_minor": 4
}
