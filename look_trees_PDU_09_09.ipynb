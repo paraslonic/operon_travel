{
 "cells": [
  {
   "cell_type": "markdown",
   "metadata": {},
   "source": [
    "## Operon TREES\n",
    "\n",
    "#### Do core tree with RAXML"
   ]
  },
  {
   "cell_type": "code",
   "execution_count": 3,
   "metadata": {},
   "outputs": [
    {
     "name": "stdout",
     "output_type": "stream",
     "text": [
      "/data/ps/soft/raxml-ng_v1.0.0_linux_x86_64/./raxml-ng --msa pdu_core.phy --model GTR+G+I\n"
     ]
    }
   ],
   "source": [
    "echo \"/data/ps/soft/raxml-ng_v1.0.0_linux_x86_64/./raxml-ng --msa pdu_core.phy --model GTR+G+I\""
   ]
  },
  {
   "cell_type": "code",
   "execution_count": 13,
   "metadata": {},
   "outputs": [
    {
     "name": "stdout",
     "output_type": "stream",
     "text": [
      "ls: cannot access '/data/ps/operon_travel/pdu_core.phy.raxml.*': No such file or directory\n"
     ]
    },
    {
     "ename": "",
     "evalue": "2",
     "output_type": "error",
     "traceback": []
    }
   ],
   "source": [
    "ll /data/ps/operon_travel/pdu_core.phy.raxml.*"
   ]
  },
  {
   "cell_type": "code",
   "execution_count": 7,
   "metadata": {},
   "outputs": [
    {
     "name": "stdout",
     "output_type": "stream",
     "text": [
      "GTR{0.938803/4.150091/1.169296/0.556821/5.586278/1.000000}+FU{0.229159/0.255332/0.281340/0.234169}+IU{0.821185}+G4m{0.548554}, noname = 1-2091618\n"
     ]
    }
   ],
   "source": [
    "cat pdu_core.phy.raxml.bestModel"
   ]
  },
  {
   "cell_type": "markdown",
   "metadata": {},
   "source": [
    "#### the Tree is here: /data/ps/operon_travel/pdu_core.phy.raxml.bestTree"
   ]
  },
  {
   "cell_type": "markdown",
   "metadata": {},
   "source": [
    "### gene trees are here\n",
    "#### inferred with iqtree "
   ]
  },
  {
   "cell_type": "code",
   "execution_count": 4,
   "metadata": {},
   "outputs": [
    {
     "name": "stdout",
     "output_type": "stream",
     "text": [
      "/data/ps/operon_travel/orthosnake/pdu/Results/coreogs_aligned_nuc_tree/OG0000873.treefile\n",
      "ls: write error: Broken pipe\n"
     ]
    }
   ],
   "source": [
    "ls /data/ps/operon_travel/orthosnake/pdu/Results/coreogs_aligned_nuc_tree/*.treefile | head -1"
   ]
  },
  {
   "cell_type": "markdown",
   "metadata": {},
   "source": [
    "## PDU operon tree:"
   ]
  },
  {
   "cell_type": "code",
   "execution_count": 8,
   "metadata": {},
   "outputs": [
    {
     "name": "stdout",
     "output_type": "stream",
     "text": [
      "/data/ps/soft/raxml-ng_v1.0.0_linux_x86_64/./raxml-ng --msa pdu.phy --model GTR+G+I\n"
     ]
    }
   ],
   "source": [
    "echo \"/data/ps/soft/raxml-ng_v1.0.0_linux_x86_64/./raxml-ng --msa pdu.phy --model GTR+G+I\""
   ]
  },
  {
   "cell_type": "code",
   "execution_count": 6,
   "metadata": {},
   "outputs": [
    {
     "name": "stdout",
     "output_type": "stream",
     "text": [
      "GTR{1.076537/3.765780/1.332787/0.408197/3.559008/1.000000}+FU{0.239430/0.241529/0.266507/0.252534}+IU{0.781809}+G4m{0.642432}, noname = 1-10392\n"
     ]
    }
   ],
   "source": [
    "cat pdu.phy.raxml.bestModel"
   ]
  },
  {
   "cell_type": "markdown",
   "metadata": {},
   "source": [
    "## Compare CORE and PDU trees"
   ]
  },
  {
   "cell_type": "markdown",
   "metadata": {},
   "source": [
    "![core_vs_pdu](podval/pdu_vs_core_raxml.png)"
   ]
  },
  {
   "cell_type": "markdown",
   "metadata": {},
   "source": [
    "### subset 10 taxa \n",
    "#### plot with script compare_2_trees_3.png"
   ]
  },
  {
   "cell_type": "code",
   "execution_count": 11,
   "metadata": {},
   "outputs": [
    {
     "name": "stdout",
     "output_type": "stream",
     "text": [
      "podval/entanglement_10_4.png  podval/pdu_vs_core_raxml.png\n"
     ]
    }
   ],
   "source": [
    "ls podval/*.png"
   ]
  },
  {
   "cell_type": "markdown",
   "metadata": {},
   "source": [
    "![](podval/entanglement_10_4.png)"
   ]
  },
  {
   "cell_type": "markdown",
   "metadata": {},
   "source": [
    "### histogram of entanglement values"
   ]
  }
 ],
 "metadata": {
  "kernelspec": {
   "display_name": "Bash",
   "language": "bash",
   "name": "bash"
  },
  "language_info": {
   "codemirror_mode": "shell",
   "file_extension": ".sh",
   "mimetype": "text/x-sh",
   "name": "bash"
  }
 },
 "nbformat": 4,
 "nbformat_minor": 4
}
