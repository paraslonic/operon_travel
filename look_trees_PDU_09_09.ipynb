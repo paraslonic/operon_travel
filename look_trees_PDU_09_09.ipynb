{
 "cells": [
  {
   "cell_type": "markdown",
   "metadata": {},
   "source": [
    "# PDU\n",
    "* * *"
   ]
  },
  {
   "cell_type": "markdown",
   "metadata": {},
   "source": [
    "### do *core* tree with raxml"
   ]
  },
  {
   "cell_type": "code",
   "execution_count": 17,
   "metadata": {},
   "outputs": [],
   "source": [
    "core=\"orthosnake/pdu/tmp/coreogaligned.fasta\""
   ]
  },
  {
   "cell_type": "code",
   "execution_count": null,
   "metadata": {},
   "outputs": [],
   "source": [
    "mkdir -p logs\n",
    "nohup /data/ps/soft/raxml-ng_v1.0.0_linux_x86_64/./raxml-ng --msa $core --model GTR+G+I --all --threads 40 > logs/log_core_raxml &"
   ]
  },
  {
   "cell_type": "markdown",
   "metadata": {},
   "source": [
    "### the Tree is here: \n"
   ]
  },
  {
   "cell_type": "code",
   "execution_count": 11,
   "metadata": {},
   "outputs": [
    {
     "name": "stdout",
     "output_type": "stream",
     "text": [
      "studio/core_pdu_aligned.fasta.raxml.bestTree\n",
      "/data12/bio/runs-manolov/operon_travel/studio/core_pdu_aligned.fasta.raxml.bestTree\n"
     ]
    }
   ],
   "source": [
    "ls studio/core_pdu_aligned.fasta.raxml.bestTree\n",
    "ls /data12/bio/runs-manolov/operon_travel/studio/core_pdu_aligned.fasta.raxml.bestTree"
   ]
  },
  {
   "cell_type": "markdown",
   "metadata": {},
   "source": [
    "### do *operon* tree:"
   ]
  },
  {
   "cell_type": "code",
   "execution_count": 25,
   "metadata": {},
   "outputs": [],
   "source": [
    "region_aligned=tmp/og_in_region/pdu/pdu.fasta"
   ]
  },
  {
   "cell_type": "code",
   "execution_count": null,
   "metadata": {},
   "outputs": [],
   "source": [
    "/data/ps/soft/raxml-ng_v1.0.0_linux_x86_64/./raxml-ng --msa $region_aligned --model GTR+G+I --all --threads 20"
   ]
  },
  {
   "cell_type": "markdown",
   "metadata": {},
   "source": [
    "### copy to studio"
   ]
  },
  {
   "cell_type": "code",
   "execution_count": 13,
   "metadata": {},
   "outputs": [],
   "source": [
    "mkdir -p /data/ps/operon_travel/studio/pdu\n",
    "cp tmp/og_in_region/pdu/pdu.fasta.raxml.* /data/ps/operon_travel/studio/pdu\n",
    "cp /data12/bio/runs-manolov/operon_travel/studio/core_pdu_aligned.fasta.raxml* studio/pdu\n",
    "cp studio/sorbitol/compare_2_trees_3.r studio/pdu"
   ]
  },
  {
   "cell_type": "markdown",
   "metadata": {},
   "source": [
    "# RESULTS\n",
    "### Compare CORE and PDU trees"
   ]
  },
  {
   "cell_type": "markdown",
   "metadata": {},
   "source": [
    "![core_vs_pdu](podval/pdu_vs_core_raxml.png)"
   ]
  },
  {
   "cell_type": "markdown",
   "metadata": {},
   "source": [
    "### subset 10 taxa \n",
    "#### plot with script compare_2_trees_3.png"
   ]
  },
  {
   "cell_type": "code",
   "execution_count": 11,
   "metadata": {},
   "outputs": [
    {
     "name": "stdout",
     "output_type": "stream",
     "text": [
      "podval/entanglement_10_4.png  podval/pdu_vs_core_raxml.png\n"
     ]
    }
   ],
   "source": [
    "ls podval/*.png"
   ]
  },
  {
   "cell_type": "markdown",
   "metadata": {},
   "source": [
    "![](podval/entanglement_10_4.png)"
   ]
  },
  {
   "cell_type": "markdown",
   "metadata": {},
   "source": [
    "### histogram of entanglement values"
   ]
  }
 ],
 "metadata": {
  "kernelspec": {
   "display_name": "Bash",
   "language": "bash",
   "name": "bash"
  },
  "language_info": {
   "codemirror_mode": "shell",
   "file_extension": ".sh",
   "mimetype": "text/x-sh",
   "name": "bash"
  }
 },
 "nbformat": 4,
 "nbformat_minor": 4
}
