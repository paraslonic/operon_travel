{
 "cells": [
  {
   "cell_type": "code",
   "execution_count": null,
   "metadata": {},
   "outputs": [],
   "source": []
  },
  {
   "cell_type": "markdown",
   "metadata": {},
   "source": [
    "## Operon TREES\n",
    "\n",
    "#### Do core tree with RAXML"
   ]
  },
  {
   "cell_type": "code",
   "execution_count": 17,
   "metadata": {},
   "outputs": [],
   "source": [
    "core=\"orthosnake/pdu/tmp/coreogaligned.fasta\""
   ]
  },
  {
   "cell_type": "code",
   "execution_count": 21,
   "metadata": {},
   "outputs": [
    {
     "name": "stdout",
     "output_type": "stream",
     "text": [
      "bash: logs/log_core_raxml: No such file or directory\n"
     ]
    },
    {
     "ename": "",
     "evalue": "1",
     "output_type": "error",
     "traceback": []
    }
   ],
   "source": [
    "mkdir -p logs\n",
    "nohup /data/ps/soft/raxml-ng_v1.0.0_linux_x86_64/./raxml-ng --msa $core --model GTR+G+I > logs/log_core_raxml &"
   ]
  },
  {
   "cell_type": "code",
   "execution_count": 22,
   "metadata": {},
   "outputs": [
    {
     "name": "stdout",
     "output_type": "stream",
     "text": [
      "\n",
      "RAxML-NG v. 1.0.0 released on 07.08.2020 by The Exelixis Lab.\n",
      "Developed by: Alexey M. Kozlov and Alexandros Stamatakis.\n",
      "Contributors: Diego Darriba, Tomas Flouri, Benoit Morel, Sarah Lutteropp, Ben Bettisworth.\n",
      "Latest version: https://github.com/amkozlov/raxml-ng\n",
      "Questions/problems/suggestions? Please visit: https://groups.google.com/forum/#!forum/raxml\n",
      "\n",
      "System: AMD EPYC 7502 32-Core Processor, 64 cores, 2003 GB RAM\n",
      "\n",
      "Usage: raxml-ng [OPTIONS]\n",
      "\n",
      "Commands (mutually exclusive):\n",
      "  --help                                     display help information\n",
      "  --version                                  display version information\n",
      "  --evaluate                                 evaluate the likelihood of a tree (with model+brlen optimization)\n",
      "  --search                                   ML tree search (default: 10 parsimony + 10 random starting trees)\n",
      "  --bootstrap                                bootstrapping (default: use bootstopping to auto-detect #replicates)\n",
      "  --all                                      all-in-one (ML search + bootstrapping)\n",
      "  --support                                  compute bipartition support for a given reference tree (e.g., best ML tree)\n",
      "                                             and a set of replicate trees (e.g., from a bootstrap analysis)\n",
      "  --bsconverge                               test for bootstrapping convergence using autoMRE criterion\n",
      "  --bsmsa                                    generate bootstrap replicate MSAs\n",
      "  --terrace                                  check whether a tree lies on a phylogenetic terrace \n",
      "  --check                                    check alignment correctness and remove empty columns/rows\n",
      "  --parse                                    parse alignment, compress patterns and create binary MSA file\n",
      "  --start                                    generate parsimony/random starting trees and exit\n",
      "  --rfdist                                   compute pair-wise Robinson-Foulds (RF) distances between trees\n",
      "  --consense [ STRICT | MR | MR<n> | MRE ]   build strict, majority-rule (MR) or extended MR (MRE) consensus tree (default: MR)\n",
      "                                             eg: --consense MR75 --tree bsrep.nw\n",
      "  --ancestral                                ancestral state reconstruction at all inner nodes\n",
      "  --sitelh                                   print per-site log-likelihood values\n",
      "\n",
      "Command shortcuts (mutually exclusive):\n",
      "  --search1                                  Alias for: --search --tree rand{1}\n",
      "  --loglh                                    Alias for: --evaluate --opt-model off --opt-branches off --nofiles --log result\n",
      "  --rf                                       Alias for: --rfdist --nofiles --log result\n",
      "\n",
      "Input and output options:\n",
      "  --tree            rand{N} | pars{N} | FILE starting tree: rand(om), pars(imony) or user-specified (newick file)\n",
      "                                             N = number of trees (default: rand{10},pars{10})\n",
      "  --msa             FILE                     alignment file\n",
      "  --msa-format      VALUE                    alignment file format: FASTA, PHYLIP, CATG or AUTO-detect (default)\n",
      "  --data-type       VALUE                    data type: DNA, AA, BIN(ary) or AUTO-detect (default)\n",
      "  --tree-constraint FILE                     constraint tree\n",
      "  --prefix          STRING                   prefix for output files (default: MSA file name)\n",
      "  --log             VALUE                    log verbosity: ERROR,WARNING,RESULT,INFO,PROGRESS,DEBUG (default: PROGRESS)\n",
      "  --redo                                     overwrite existing result files and ignore checkpoints (default: OFF)\n",
      "  --nofiles                                  do not create any output files, print results to the terminal only\n",
      "  --precision       VALUE                    number of decimal places to print (default: 6)\n",
      "  --outgroup        o1,o2,..,oN              comma-separated list of outgroup taxon names (it's just a drawing option!)\n",
      "  --site-weights    FILE                     file with MSA column weights (positive integers only!)  \n",
      "\n",
      "General options:\n",
      "  --seed         VALUE                       seed for pseudo-random number generator (default: current time)\n",
      "  --pat-comp     on | off                    alignment pattern compression (default: ON)\n",
      "  --tip-inner    on | off                    tip-inner case optimization (default: OFF)\n",
      "  --site-repeats on | off                    use site repeats optimization, 10%-60% faster than tip-inner (default: ON)\n",
      "  --threads      VALUE                       number of parallel threads to use (default: 64)\n",
      "  --workers      VALUE                       number of tree searches to run in parallel (default: 1)\n",
      "  --simd         none | sse3 | avx | avx2    vector instruction set to use (default: auto-detect).\n",
      "  --rate-scalers on | off                    use individual CLV scalers for each rate category (default: ON for >2000 taxa)\n",
      "  --force        [ <CHECKS> ]                disable safety checks (please think twice!)\n",
      "\n",
      "Model options:\n",
      "  --model        <name>+G[n]+<Freqs> | FILE  model specification OR partition file\n",
      "  --brlen        linked | scaled | unlinked  branch length linkage between partitions (default: scaled)\n",
      "  --blmin        VALUE                       minimum branch length (default: 1e-6)\n",
      "  --blmax        VALUE                       maximum branch length (default: 100)\n",
      "  --blopt        nr_fast    | nr_safe        branch length optimization method (default: nr_fast)\n",
      "                 nr_oldfast | nr_oldsafe     \n",
      "  --opt-model    on | off                    ML optimization of all model parameters (default: ON)\n",
      "  --opt-branches on | off                    ML optimization of all branch lengths (default: ON)\n",
      "  --prob-msa     on | off                    use probabilistic alignment (works with CATG and VCF)\n",
      "  --lh-epsilon   VALUE                       log-likelihood epsilon for optimization/tree search (default: 0.1)\n",
      "\n",
      "Topology search options:\n",
      "  --spr-radius   VALUE                       SPR re-insertion radius for fast iterations (default: AUTO)\n",
      "  --spr-cutoff   VALUE | off                 relative LH cutoff for descending into subtrees (default: 1.0)\n",
      "\n",
      "Bootstrapping options:\n",
      "  --bs-trees     VALUE                       number of bootstraps replicates\n",
      "  --bs-trees     autoMRE{N}                  use MRE-based bootstrap convergence criterion, up to N replicates (default: 1000)\n",
      "  --bs-trees     FILE                        Newick file containing set of bootstrap replicate trees (with --support)\n",
      "  --bs-cutoff    VALUE                       cutoff threshold for the MRE-based bootstopping criteria (default: 0.03)\n",
      "  --bs-metric    fbp | tbe                   branch support metric: fbp = Felsenstein bootstrap (default), tbe = transfer distance\n",
      "\n",
      "EXAMPLES:\n",
      "  1. Perform tree inference on DNA alignment \n",
      "     (10 random + 10 parsimony starting trees, general time-reversible model, ML estimate of substitution rates and\n",
      "      nucleotide frequencies, discrete GAMMA model of rate heterogeneity with 4 categories):\n",
      "\n",
      "     ./raxml-ng --msa testDNA.fa --model GTR+G\n",
      "\n",
      "\n",
      "  2. Perform an all-in-one analysis (ML tree search + non-parametric bootstrap) \n",
      "     (10 randomized parsimony starting trees, fixed empirical substitution matrix (LG),\n",
      "      empirical aminoacid frequencies from alignment, 8 discrete GAMMA categories,\n",
      "      200 bootstrap replicates):\n",
      "\n",
      "     ./raxml-ng --all --msa testAA.fa --model LG+G8+F --tree pars{10} --bs-trees 200\n",
      "\n",
      "\n",
      "  3. Optimize branch lengths and free model parameters on a fixed topology\n",
      "     (using multiple partitions with proportional branch lengths)\n",
      "\n",
      "     ./raxml-ng --evaluate --msa testAA.fa --model partitions.txt --tree test.tree --brlen scaled\n",
      "\n"
     ]
    }
   ],
   "source": [
    "/data/ps/soft/raxml-ng_v1.0.0_linux_x86_64/./raxml-ng "
   ]
  },
  {
   "cell_type": "code",
   "execution_count": 13,
   "metadata": {},
   "outputs": [
    {
     "name": "stdout",
     "output_type": "stream",
     "text": [
      "ls: cannot access '/data/ps/operon_travel/pdu_core.phy.raxml.*': No such file or directory\n"
     ]
    },
    {
     "ename": "",
     "evalue": "2",
     "output_type": "error",
     "traceback": []
    }
   ],
   "source": [
    "ll /data/ps/operon_travel/pdu_core.phy.raxml.*"
   ]
  },
  {
   "cell_type": "code",
   "execution_count": 7,
   "metadata": {},
   "outputs": [
    {
     "name": "stdout",
     "output_type": "stream",
     "text": [
      "GTR{0.938803/4.150091/1.169296/0.556821/5.586278/1.000000}+FU{0.229159/0.255332/0.281340/0.234169}+IU{0.821185}+G4m{0.548554}, noname = 1-2091618\n"
     ]
    }
   ],
   "source": [
    "cat pdu_core.phy.raxml.bestModel"
   ]
  },
  {
   "cell_type": "markdown",
   "metadata": {},
   "source": [
    "#### the Tree is here: /data/ps/operon_travel/pdu_core.phy.raxml.bestTree"
   ]
  },
  {
   "cell_type": "markdown",
   "metadata": {},
   "source": [
    "### gene trees are here\n",
    "#### inferred with iqtree "
   ]
  },
  {
   "cell_type": "code",
   "execution_count": 4,
   "metadata": {},
   "outputs": [
    {
     "name": "stdout",
     "output_type": "stream",
     "text": [
      "/data/ps/operon_travel/orthosnake/pdu/Results/coreogs_aligned_nuc_tree/OG0000873.treefile\n",
      "ls: write error: Broken pipe\n"
     ]
    }
   ],
   "source": [
    "ls /data/ps/operon_travel/orthosnake/pdu/Results/coreogs_aligned_nuc_tree/*.treefile | head -1"
   ]
  },
  {
   "cell_type": "markdown",
   "metadata": {},
   "source": [
    "## PDU operon tree:"
   ]
  },
  {
   "cell_type": "code",
   "execution_count": 25,
   "metadata": {},
   "outputs": [],
   "source": [
    "region_aligned=tmp/og_in_region/pdu/pdu.fasta"
   ]
  },
  {
   "cell_type": "code",
   "execution_count": null,
   "metadata": {},
   "outputs": [
    {
     "name": "stdout",
     "output_type": "stream",
     "text": [
      "\n",
      "RAxML-NG v. 1.0.0 released on 07.08.2020 by The Exelixis Lab.\n",
      "Developed by: Alexey M. Kozlov and Alexandros Stamatakis.\n",
      "Contributors: Diego Darriba, Tomas Flouri, Benoit Morel, Sarah Lutteropp, Ben Bettisworth.\n",
      "Latest version: https://github.com/amkozlov/raxml-ng\n",
      "Questions/problems/suggestions? Please visit: https://groups.google.com/forum/#!forum/raxml\n",
      "\n",
      "System: AMD EPYC 7502 32-Core Processor, 64 cores, 2003 GB RAM\n",
      "\n",
      "RAxML-NG was called at 09-Sep-2020 19:11:06 as follows:\n",
      "\n",
      "/data/ps/soft/raxml-ng_v1.0.0_linux_x86_64/./raxml-ng --msa tmp/og_in_region/pdu/pdu.fasta --model GTR+G+I --all --threads 20\n",
      "\n",
      "Analysis options:\n",
      "  run mode: ML tree search + bootstrapping (Felsenstein Bootstrap)\n",
      "  start tree(s): random (10) + parsimony (10)\n",
      "  bootstrap replicates: max: 1000 + bootstopping (autoMRE, cutoff: 0.030000)\n",
      "  random seed: 1599667866\n",
      "  tip-inner: OFF\n",
      "  pattern compression: ON\n",
      "  per-rate scalers: OFF\n",
      "  site repeats: ON\n",
      "  branch lengths: proportional (ML estimate, algorithm: NR-FAST)\n",
      "  SIMD kernels: AVX2\n",
      "  parallelization: coarse-grained (auto), PTHREADS (20 threads), thread pinning: OFF\n",
      "\n",
      "[00:00:00] Reading alignment from file: tmp/og_in_region/pdu/pdu.fasta\n",
      "[00:00:00] Loaded alignment with 117 taxa and 10392 sites\n",
      "\n",
      "WARNING: Sequences GCF_003991155.1_ASM399115v1_genomic and GCF_003204955.1_ASM320495v1_genomic are exactly identical!\n",
      "WARNING: Sequences GCF_003991155.1_ASM399115v1_genomic and GCF_002357895.1_ASM235789v1_genomic are exactly identical!\n",
      "WARNING: Sequences GCF_003991155.1_ASM399115v1_genomic and GCF_002357875.1_ASM235787v1_genomic are exactly identical!\n",
      "WARNING: Sequences GCF_003991155.1_ASM399115v1_genomic and GCF_008152105.1_ASM815210v1_genomic are exactly identical!\n",
      "WARNING: Sequences GCF_013372305.1_ASM1337230v1_genomic and GCF_003344465.1_ASM334446v1_genomic are exactly identical!\n",
      "WARNING: Sequences GCF_013372305.1_ASM1337230v1_genomic and GCF_012149945.1_ASM1214994v1_genomic are exactly identical!\n",
      "WARNING: Sequences GCF_013372305.1_ASM1337230v1_genomic and GCF_013085905.1_ASM1308590v1_genomic are exactly identical!\n",
      "WARNING: Sequences GCF_013372305.1_ASM1337230v1_genomic and GCF_013315675.1_ASM1331567v1_genomic are exactly identical!\n",
      "WARNING: Sequences GCF_003044015.1_ASM304401v1_genomic and GCF_003043915.1_ASM304391v1_genomic are exactly identical!\n",
      "WARNING: Sequences GCF_003018695.1_ASM301869v1_genomic and GCF_005037715.1_ASM503771v2_genomic are exactly identical!\n",
      "WARNING: Sequences GCF_003018695.1_ASM301869v1_genomic and GCF_003112145.1_ASM311214v1_genomic are exactly identical!\n",
      "WARNING: Sequences GCF_003018695.1_ASM301869v1_genomic and GCF_002844165.1_ASM284416v1_genomic are exactly identical!\n",
      "WARNING: Sequences GCF_003018695.1_ASM301869v1_genomic and GCF_003018775.1_ASM301877v1_genomic are exactly identical!\n",
      "WARNING: Sequences GCF_003018695.1_ASM301869v1_genomic and GCF_003018935.1_ASM301893v1_genomic are exactly identical!\n",
      "WARNING: Sequences GCF_002951715.1_ASM295171v1_genomic and GCF_002116715.2_ASM211671v2_genomic are exactly identical!\n",
      "WARNING: Sequences GCF_900149915.1_EPEC-E2348_69-V2_genomic and GCF_000026545.1_ASM2654v1_genomic are exactly identical!\n",
      "WARNING: Sequences GCF_900149915.1_EPEC-E2348_69-V2_genomic and GCF_900149875.1_EPEC1_genomic are exactly identical!\n",
      "WARNING: Sequences GCF_000971615.1_ASM97161v1_genomic and GCF_003018855.1_ASM301885v1_genomic are exactly identical!\n",
      "WARNING: Sequences GCF_001900375.1_ASM190037v1_genomic and GCF_900622665.1_MS14386_genomic are exactly identical!\n",
      "WARNING: Sequences GCF_000284495.1_ASM28449v1_genomic and GCF_000183345.1_ASM18334v1_genomic are exactly identical!\n",
      "WARNING: Sequences GCF_003017615.1_ASM301761v1_genomic and GCF_003570765.1_ASM357076v1_genomic are exactly identical!\n",
      "WARNING: Sequences GCF_003017615.1_ASM301761v1_genomic and GCF_900636785.1_44257_F01_genomic are exactly identical!\n",
      "WARNING: Sequences GCF_003017615.1_ASM301761v1_genomic and GCF_003586045.1_E.coli_isolate_genomic are exactly identical!\n",
      "WARNING: Sequences GCF_003031815.1_ASM303181v1_genomic and GCF_001900635.1_ASM190063v1_genomic are exactly identical!\n",
      "WARNING: Sequences GCF_001900655.1_ASM190065v1_genomic and GCF_001900715.1_ASM190071v1_genomic are exactly identical!\n",
      "WARNING: Sequences GCF_000464955.2_ASM46495v2_genomic and GCF_000801185.2_ASM80118v2_genomic are exactly identical!\n",
      "WARNING: Sequences GCF_001420935.1_ASM142093v1_genomic and GCF_003017805.1_ASM301780v1_genomic are exactly identical!\n",
      "WARNING: Sequences GCF_003019075.1_ASM301907v1_genomic and GCF_003018075.1_ASM301807v1_genomic are exactly identical!\n",
      "WARNING: Sequences GCF_900622685.1_MS14387_genomic and GCF_013085025.1_ASM1308502v1_genomic are exactly identical!\n",
      "WARNING: Sequences GCF_005014055.1_ASM501405v1_genomic and GCF_008761515.1_ASM876151v1_genomic are exactly identical!\n",
      "WARNING: Duplicate sequences found: 30\n",
      "\n",
      "NOTE: Reduced alignment (with duplicates and gap-only sites/taxa removed) \n",
      "NOTE: was saved to: /data/ps/operon_travel/tmp/og_in_region/pdu/pdu.fasta.raxml.reduced.phy\n",
      "\n",
      "Alignment comprises 1 partitions and 993 patterns\n",
      "\n",
      "Partition 0: noname\n",
      "Model: GTR+FO+I+G4m\n",
      "Alignment sites / patterns: 10392 / 993\n",
      "Gaps: 1.72 %\n",
      "Invariant sites: 88.78 %\n",
      "\n",
      "\n",
      "NOTE: Binary MSA file created: tmp/og_in_region/pdu/pdu.fasta.raxml.rba\n",
      "\n",
      "Parallelization scheme autoconfig: 20 worker(s) x 1 thread(s)\n",
      "\n",
      "Parallel reduction/worker buffer size: 1 KB  / 0 KB\n",
      "\n",
      "[00:00:00] Generating 10 random starting tree(s) with 117 taxa\n",
      "[00:00:00] Generating 10 parsimony starting tree(s) with 117 taxa\n",
      "[00:00:00] Data distribution: max. partitions/sites/weight per thread: 1 / 993 / 15888\n",
      "[00:00:00] Data distribution: max. searches per worker: 51\n",
      "\n",
      "Starting ML tree search with 20 distinct starting trees\n",
      "\n",
      "[00:00:26] [worker #15] ML tree search #16, logLikelihood: -30765.769598\n",
      "[00:00:31] [worker #12] ML tree search #13, logLikelihood: -30783.676415\n",
      "[00:00:31] [worker #13] ML tree search #14, logLikelihood: -30756.515067\n",
      "[00:00:34] [worker #3] ML tree search #4, logLikelihood: -30802.996001\n",
      "[00:00:39] [worker #18] ML tree search #19, logLikelihood: -30818.894430\n",
      "[00:00:42] [worker #10] ML tree search #11, logLikelihood: -30858.834919\n",
      "[00:00:43] [worker #11] ML tree search #12, logLikelihood: -30777.738505\n",
      "[00:00:47] [worker #1] ML tree search #2, logLikelihood: -30842.383654\n",
      "[00:00:52] [worker #14] ML tree search #15, logLikelihood: -30756.498270\n",
      "[00:00:53] [worker #7] ML tree search #8, logLikelihood: -30755.898291\n",
      "[00:00:55] [worker #0] ML tree search #1, logLikelihood: -30785.939855\n",
      "[00:00:55] [worker #4] ML tree search #5, logLikelihood: -30781.384741\n",
      "[00:00:57] [worker #19] ML tree search #20, logLikelihood: -30775.380118\n",
      "[00:01:00] [worker #17] ML tree search #18, logLikelihood: -30756.517374\n",
      "[00:01:07] [worker #2] ML tree search #3, logLikelihood: -30753.950376\n",
      "[00:01:13] [worker #5] ML tree search #6, logLikelihood: -30799.493438\n",
      "[00:01:16] [worker #9] ML tree search #10, logLikelihood: -30772.055807\n",
      "[00:01:22] [worker #6] ML tree search #7, logLikelihood: -30784.148700\n",
      "[00:01:29] [worker #8] ML tree search #9, logLikelihood: -30781.282005\n",
      "[00:01:54] [worker #16] ML tree search #17, logLikelihood: -30784.118542\n",
      "\n",
      "[00:01:54] ML tree search completed, best tree logLH: -30753.950376\n",
      "\n",
      "[00:01:54] Starting bootstrapping analysis with 1000 replicates.\n",
      "\n",
      "[00:02:18] [worker #7] Bootstrap tree #8, logLikelihood: -30106.619476\n",
      "[00:02:21] [worker #15] Bootstrap tree #16, logLikelihood: -30297.424994\n",
      "[00:02:23] [worker #12] Bootstrap tree #13, logLikelihood: -31532.631930\n",
      "[00:02:24] [worker #17] Bootstrap tree #18, logLikelihood: -30551.528921\n",
      "[00:02:24] [worker #1] Bootstrap tree #2, logLikelihood: -30162.716866\n",
      "[00:02:27] [worker #4] Bootstrap tree #5, logLikelihood: -30677.716629\n",
      "[00:02:31] [worker #13] Bootstrap tree #14, logLikelihood: -30701.103987\n",
      "[00:02:32] [worker #14] Bootstrap tree #15, logLikelihood: -30799.944522\n",
      "[00:02:34] [worker #16] Bootstrap tree #17, logLikelihood: -30744.039212\n",
      "[00:02:36] [worker #19] Bootstrap tree #20, logLikelihood: -30684.530116\n",
      "[00:02:37] [worker #8] Bootstrap tree #9, logLikelihood: -30258.953058\n",
      "[00:02:41] [worker #3] Bootstrap tree #4, logLikelihood: -30455.899538\n",
      "[00:02:42] [worker #10] Bootstrap tree #11, logLikelihood: -30764.314559\n",
      "[00:02:44] [worker #5] Bootstrap tree #6, logLikelihood: -30622.950523\n",
      "[00:02:45] [worker #18] Bootstrap tree #19, logLikelihood: -30037.517685\n",
      "[00:02:46] [worker #7] Bootstrap tree #28, logLikelihood: -30706.901397\n",
      "[00:02:47] [worker #12] Bootstrap tree #33, logLikelihood: -30139.349835\n",
      "[00:02:51] [worker #2] Bootstrap tree #3, logLikelihood: -30714.862485\n",
      "[00:02:51] [worker #1] Bootstrap tree #22, logLikelihood: -31044.496661\n",
      "[00:02:52] [worker #6] Bootstrap tree #7, logLikelihood: -30191.904154\n",
      "[00:02:54] [worker #4] Bootstrap tree #25, logLikelihood: -30738.412564\n",
      "[00:02:54] [worker #11] Bootstrap tree #12, logLikelihood: -30679.245185\n",
      "[00:02:55] [worker #15] Bootstrap tree #36, logLikelihood: -30622.551989\n",
      "[00:02:58] [worker #13] Bootstrap tree #34, logLikelihood: -30316.404189\n",
      "[00:02:58] [worker #9] Bootstrap tree #10, logLikelihood: -30746.637280\n",
      "[00:03:02] [worker #0] Bootstrap tree #1, logLikelihood: -30618.002122\n",
      "[00:03:06] [worker #17] Bootstrap tree #38, logLikelihood: -30809.766246\n",
      "[00:03:06] [worker #8] Bootstrap tree #29, logLikelihood: -30203.870728\n",
      "[00:03:07] [worker #7] Bootstrap tree #48, logLikelihood: -30978.719964\n",
      "[00:03:12] [worker #14] Bootstrap tree #35, logLikelihood: -30275.261920\n",
      "[00:03:14] [worker #18] Bootstrap tree #39, logLikelihood: -30422.757653\n",
      "[00:03:16] [worker #3] Bootstrap tree #24, logLikelihood: -30662.755339\n",
      "[00:03:25] [worker #1] Bootstrap tree #42, logLikelihood: -29683.060425\n",
      "[00:03:26] [worker #9] Bootstrap tree #30, logLikelihood: -30520.008669\n",
      "[00:03:33] [worker #4] Bootstrap tree #45, logLikelihood: -30442.658150\n",
      "[00:03:33] [worker #10] Bootstrap tree #31, logLikelihood: -31071.672272\n",
      "[00:03:41] [worker #19] Bootstrap tree #40, logLikelihood: -30654.059242\n",
      "[00:03:42] [worker #5] Bootstrap tree #26, logLikelihood: -30247.813722\n",
      "[00:03:42] [worker #11] Bootstrap tree #32, logLikelihood: -30228.682330\n",
      "[00:03:45] [worker #8] Bootstrap tree #49, logLikelihood: -30319.334187\n",
      "[00:03:50] [worker #3] Bootstrap tree #44, logLikelihood: -31469.825524\n",
      "[00:03:51] [worker #16] Bootstrap tree #37, logLikelihood: -31090.611173\n",
      "[00:03:51] [worker #9] Bootstrap tree #50, logLikelihood: -30456.132027\n",
      "[00:03:54] [worker #2] Bootstrap tree #23, logLikelihood: -31180.137830\n",
      "[00:04:02] [worker #0] Bootstrap tree #21, logLikelihood: -30175.304722\n",
      "[00:04:07] [worker #6] Bootstrap tree #27, logLikelihood: -31497.751651\n"
     ]
    }
   ],
   "source": [
    "/data/ps/soft/raxml-ng_v1.0.0_linux_x86_64/./raxml-ng --msa $region_aligned --model GTR+G+I --all --threads 20"
   ]
  },
  {
   "cell_type": "code",
   "execution_count": 6,
   "metadata": {},
   "outputs": [
    {
     "name": "stdout",
     "output_type": "stream",
     "text": [
      "GTR{1.076537/3.765780/1.332787/0.408197/3.559008/1.000000}+FU{0.239430/0.241529/0.266507/0.252534}+IU{0.781809}+G4m{0.642432}, noname = 1-10392\n"
     ]
    }
   ],
   "source": [
    "cat pdu.phy.raxml.bestModel"
   ]
  },
  {
   "cell_type": "markdown",
   "metadata": {},
   "source": [
    "## Compare CORE and PDU trees"
   ]
  },
  {
   "cell_type": "markdown",
   "metadata": {},
   "source": [
    "![core_vs_pdu](podval/pdu_vs_core_raxml.png)"
   ]
  },
  {
   "cell_type": "markdown",
   "metadata": {},
   "source": [
    "### subset 10 taxa \n",
    "#### plot with script compare_2_trees_3.png"
   ]
  },
  {
   "cell_type": "code",
   "execution_count": 11,
   "metadata": {},
   "outputs": [
    {
     "name": "stdout",
     "output_type": "stream",
     "text": [
      "podval/entanglement_10_4.png  podval/pdu_vs_core_raxml.png\n"
     ]
    }
   ],
   "source": [
    "ls podval/*.png"
   ]
  },
  {
   "cell_type": "markdown",
   "metadata": {},
   "source": [
    "![](podval/entanglement_10_4.png)"
   ]
  },
  {
   "cell_type": "markdown",
   "metadata": {},
   "source": [
    "### histogram of entanglement values"
   ]
  }
 ],
 "metadata": {
  "kernelspec": {
   "display_name": "Bash",
   "language": "bash",
   "name": "bash"
  },
  "language_info": {
   "codemirror_mode": "shell",
   "file_extension": ".sh",
   "mimetype": "text/x-sh",
   "name": "bash"
  }
 },
 "nbformat": 4,
 "nbformat_minor": 4
}
