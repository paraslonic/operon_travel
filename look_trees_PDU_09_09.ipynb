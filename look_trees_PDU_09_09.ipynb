{
 "cells": [
  {
   "cell_type": "code",
   "execution_count": null,
   "metadata": {},
   "outputs": [],
   "source": []
  },
  {
   "cell_type": "markdown",
   "metadata": {},
   "source": [
    "## Operon TREES\n",
    "\n",
    "#### Do core tree with RAXML"
   ]
  },
  {
   "cell_type": "code",
   "execution_count": 17,
   "metadata": {},
   "outputs": [],
   "source": [
    "core=\"orthosnake/pdu/tmp/coreogaligned.fasta\""
   ]
  },
  {
   "cell_type": "code",
   "execution_count": null,
   "metadata": {},
   "outputs": [],
   "source": [
    "mkdir -p logs\n",
    "nohup /data/ps/soft/raxml-ng_v1.0.0_linux_x86_64/./raxml-ng --msa $core --model GTR+G+I --all --threads 40 > logs/log_core_raxml &"
   ]
  },
  {
   "cell_type": "code",
   "execution_count": null,
   "metadata": {},
   "outputs": [],
   "source": [
    "/data/ps/soft/raxml-ng_v1.0.0_linux_x86_64/./raxml-ng "
   ]
  },
  {
   "cell_type": "code",
   "execution_count": 13,
   "metadata": {},
   "outputs": [
    {
     "name": "stdout",
     "output_type": "stream",
     "text": [
      "ls: cannot access '/data/ps/operon_travel/pdu_core.phy.raxml.*': No such file or directory\n"
     ]
    },
    {
     "ename": "",
     "evalue": "2",
     "output_type": "error",
     "traceback": []
    }
   ],
   "source": [
    "ll /data/ps/operon_travel/pdu_core.phy.raxml.*"
   ]
  },
  {
   "cell_type": "code",
   "execution_count": 7,
   "metadata": {},
   "outputs": [
    {
     "name": "stdout",
     "output_type": "stream",
     "text": [
      "GTR{0.938803/4.150091/1.169296/0.556821/5.586278/1.000000}+FU{0.229159/0.255332/0.281340/0.234169}+IU{0.821185}+G4m{0.548554}, noname = 1-2091618\n"
     ]
    }
   ],
   "source": [
    "cat pdu_core.phy.raxml.bestModel"
   ]
  },
  {
   "cell_type": "markdown",
   "metadata": {},
   "source": [
    "#### the Tree is here: /data/ps/operon_travel/pdu_core.phy.raxml.bestTree"
   ]
  },
  {
   "cell_type": "markdown",
   "metadata": {},
   "source": [
    "### gene trees are here\n",
    "#### inferred with iqtree "
   ]
  },
  {
   "cell_type": "code",
   "execution_count": 4,
   "metadata": {},
   "outputs": [
    {
     "name": "stdout",
     "output_type": "stream",
     "text": [
      "/data/ps/operon_travel/orthosnake/pdu/Results/coreogs_aligned_nuc_tree/OG0000873.treefile\n",
      "ls: write error: Broken pipe\n"
     ]
    }
   ],
   "source": [
    "ls /data/ps/operon_travel/orthosnake/pdu/Results/coreogs_aligned_nuc_tree/*.treefile | head -1"
   ]
  },
  {
   "cell_type": "markdown",
   "metadata": {},
   "source": [
    "## PDU operon tree:"
   ]
  },
  {
   "cell_type": "code",
   "execution_count": 25,
   "metadata": {},
   "outputs": [],
   "source": [
    "region_aligned=tmp/og_in_region/pdu/pdu.fasta"
   ]
  },
  {
   "cell_type": "code",
   "execution_count": null,
   "metadata": {},
   "outputs": [
    {
     "name": "stdout",
     "output_type": "stream",
     "text": [
      "\n",
      "RAxML-NG v. 1.0.0 released on 07.08.2020 by The Exelixis Lab.\n",
      "Developed by: Alexey M. Kozlov and Alexandros Stamatakis.\n",
      "Contributors: Diego Darriba, Tomas Flouri, Benoit Morel, Sarah Lutteropp, Ben Bettisworth.\n",
      "Latest version: https://github.com/amkozlov/raxml-ng\n",
      "Questions/problems/suggestions? Please visit: https://groups.google.com/forum/#!forum/raxml\n",
      "\n",
      "System: AMD EPYC 7502 32-Core Processor, 64 cores, 2003 GB RAM\n",
      "\n",
      "RAxML-NG was called at 09-Sep-2020 19:11:06 as follows:\n",
      "\n",
      "/data/ps/soft/raxml-ng_v1.0.0_linux_x86_64/./raxml-ng --msa tmp/og_in_region/pdu/pdu.fasta --model GTR+G+I --all --threads 20\n",
      "\n",
      "Analysis options:\n",
      "  run mode: ML tree search + bootstrapping (Felsenstein Bootstrap)\n",
      "  start tree(s): random (10) + parsimony (10)\n",
      "  bootstrap replicates: max: 1000 + bootstopping (autoMRE, cutoff: 0.030000)\n",
      "  random seed: 1599667866\n",
      "  tip-inner: OFF\n",
      "  pattern compression: ON\n",
      "  per-rate scalers: OFF\n",
      "  site repeats: ON\n",
      "  branch lengths: proportional (ML estimate, algorithm: NR-FAST)\n",
      "  SIMD kernels: AVX2\n",
      "  parallelization: coarse-grained (auto), PTHREADS (20 threads), thread pinning: OFF\n",
      "\n",
      "[00:00:00] Reading alignment from file: tmp/og_in_region/pdu/pdu.fasta\n",
      "[00:00:00] Loaded alignment with 117 taxa and 10392 sites\n",
      "\n",
      "WARNING: Sequences GCF_003991155.1_ASM399115v1_genomic and GCF_003204955.1_ASM320495v1_genomic are exactly identical!\n",
      "WARNING: Sequences GCF_003991155.1_ASM399115v1_genomic and GCF_002357895.1_ASM235789v1_genomic are exactly identical!\n",
      "WARNING: Sequences GCF_003991155.1_ASM399115v1_genomic and GCF_002357875.1_ASM235787v1_genomic are exactly identical!\n",
      "WARNING: Sequences GCF_003991155.1_ASM399115v1_genomic and GCF_008152105.1_ASM815210v1_genomic are exactly identical!\n",
      "WARNING: Sequences GCF_013372305.1_ASM1337230v1_genomic and GCF_003344465.1_ASM334446v1_genomic are exactly identical!\n",
      "WARNING: Sequences GCF_013372305.1_ASM1337230v1_genomic and GCF_012149945.1_ASM1214994v1_genomic are exactly identical!\n",
      "WARNING: Sequences GCF_013372305.1_ASM1337230v1_genomic and GCF_013085905.1_ASM1308590v1_genomic are exactly identical!\n",
      "WARNING: Sequences GCF_013372305.1_ASM1337230v1_genomic and GCF_013315675.1_ASM1331567v1_genomic are exactly identical!\n",
      "WARNING: Sequences GCF_003044015.1_ASM304401v1_genomic and GCF_003043915.1_ASM304391v1_genomic are exactly identical!\n",
      "WARNING: Sequences GCF_003018695.1_ASM301869v1_genomic and GCF_005037715.1_ASM503771v2_genomic are exactly identical!\n",
      "WARNING: Sequences GCF_003018695.1_ASM301869v1_genomic and GCF_003112145.1_ASM311214v1_genomic are exactly identical!\n",
      "WARNING: Sequences GCF_003018695.1_ASM301869v1_genomic and GCF_002844165.1_ASM284416v1_genomic are exactly identical!\n",
      "WARNING: Sequences GCF_003018695.1_ASM301869v1_genomic and GCF_003018775.1_ASM301877v1_genomic are exactly identical!\n",
      "WARNING: Sequences GCF_003018695.1_ASM301869v1_genomic and GCF_003018935.1_ASM301893v1_genomic are exactly identical!\n",
      "WARNING: Sequences GCF_002951715.1_ASM295171v1_genomic and GCF_002116715.2_ASM211671v2_genomic are exactly identical!\n",
      "WARNING: Sequences GCF_900149915.1_EPEC-E2348_69-V2_genomic and GCF_000026545.1_ASM2654v1_genomic are exactly identical!\n",
      "WARNING: Sequences GCF_900149915.1_EPEC-E2348_69-V2_genomic and GCF_900149875.1_EPEC1_genomic are exactly identical!\n",
      "WARNING: Sequences GCF_000971615.1_ASM97161v1_genomic and GCF_003018855.1_ASM301885v1_genomic are exactly identical!\n",
      "WARNING: Sequences GCF_001900375.1_ASM190037v1_genomic and GCF_900622665.1_MS14386_genomic are exactly identical!\n",
      "WARNING: Sequences GCF_000284495.1_ASM28449v1_genomic and GCF_000183345.1_ASM18334v1_genomic are exactly identical!\n",
      "WARNING: Sequences GCF_003017615.1_ASM301761v1_genomic and GCF_003570765.1_ASM357076v1_genomic are exactly identical!\n",
      "WARNING: Sequences GCF_003017615.1_ASM301761v1_genomic and GCF_900636785.1_44257_F01_genomic are exactly identical!\n",
      "WARNING: Sequences GCF_003017615.1_ASM301761v1_genomic and GCF_003586045.1_E.coli_isolate_genomic are exactly identical!\n",
      "WARNING: Sequences GCF_003031815.1_ASM303181v1_genomic and GCF_001900635.1_ASM190063v1_genomic are exactly identical!\n",
      "WARNING: Sequences GCF_001900655.1_ASM190065v1_genomic and GCF_001900715.1_ASM190071v1_genomic are exactly identical!\n",
      "WARNING: Sequences GCF_000464955.2_ASM46495v2_genomic and GCF_000801185.2_ASM80118v2_genomic are exactly identical!\n",
      "WARNING: Sequences GCF_001420935.1_ASM142093v1_genomic and GCF_003017805.1_ASM301780v1_genomic are exactly identical!\n",
      "WARNING: Sequences GCF_003019075.1_ASM301907v1_genomic and GCF_003018075.1_ASM301807v1_genomic are exactly identical!\n",
      "WARNING: Sequences GCF_900622685.1_MS14387_genomic and GCF_013085025.1_ASM1308502v1_genomic are exactly identical!\n",
      "WARNING: Sequences GCF_005014055.1_ASM501405v1_genomic and GCF_008761515.1_ASM876151v1_genomic are exactly identical!\n",
      "WARNING: Duplicate sequences found: 30\n",
      "\n",
      "NOTE: Reduced alignment (with duplicates and gap-only sites/taxa removed) \n",
      "NOTE: was saved to: /data/ps/operon_travel/tmp/og_in_region/pdu/pdu.fasta.raxml.reduced.phy\n",
      "\n",
      "Alignment comprises 1 partitions and 993 patterns\n",
      "\n",
      "Partition 0: noname\n",
      "Model: GTR+FO+I+G4m\n",
      "Alignment sites / patterns: 10392 / 993\n",
      "Gaps: 1.72 %\n",
      "Invariant sites: 88.78 %\n",
      "\n",
      "\n",
      "NOTE: Binary MSA file created: tmp/og_in_region/pdu/pdu.fasta.raxml.rba\n",
      "\n",
      "Parallelization scheme autoconfig: 20 worker(s) x 1 thread(s)\n",
      "\n",
      "Parallel reduction/worker buffer size: 1 KB  / 0 KB\n",
      "\n",
      "[00:00:00] Generating 10 random starting tree(s) with 117 taxa\n",
      "[00:00:00] Generating 10 parsimony starting tree(s) with 117 taxa\n",
      "[00:00:00] Data distribution: max. partitions/sites/weight per thread: 1 / 993 / 15888\n",
      "[00:00:00] Data distribution: max. searches per worker: 51\n",
      "\n",
      "Starting ML tree search with 20 distinct starting trees\n",
      "\n",
      "[00:00:26] [worker #15] ML tree search #16, logLikelihood: -30765.769598\n",
      "[00:00:31] [worker #12] ML tree search #13, logLikelihood: -30783.676415\n",
      "[00:00:31] [worker #13] ML tree search #14, logLikelihood: -30756.515067\n",
      "[00:00:34] [worker #3] ML tree search #4, logLikelihood: -30802.996001\n",
      "[00:00:39] [worker #18] ML tree search #19, logLikelihood: -30818.894430\n",
      "[00:00:42] [worker #10] ML tree search #11, logLikelihood: -30858.834919\n",
      "[00:00:43] [worker #11] ML tree search #12, logLikelihood: -30777.738505\n",
      "[00:00:47] [worker #1] ML tree search #2, logLikelihood: -30842.383654\n",
      "[00:00:52] [worker #14] ML tree search #15, logLikelihood: -30756.498270\n",
      "[00:00:53] [worker #7] ML tree search #8, logLikelihood: -30755.898291\n",
      "[00:00:55] [worker #0] ML tree search #1, logLikelihood: -30785.939855\n",
      "[00:00:55] [worker #4] ML tree search #5, logLikelihood: -30781.384741\n",
      "[00:00:57] [worker #19] ML tree search #20, logLikelihood: -30775.380118\n",
      "[00:01:00] [worker #17] ML tree search #18, logLikelihood: -30756.517374\n",
      "[00:01:07] [worker #2] ML tree search #3, logLikelihood: -30753.950376\n",
      "[00:01:13] [worker #5] ML tree search #6, logLikelihood: -30799.493438\n",
      "[00:01:16] [worker #9] ML tree search #10, logLikelihood: -30772.055807\n",
      "[00:01:22] [worker #6] ML tree search #7, logLikelihood: -30784.148700\n",
      "[00:01:29] [worker #8] ML tree search #9, logLikelihood: -30781.282005\n",
      "[00:01:54] [worker #16] ML tree search #17, logLikelihood: -30784.118542\n",
      "\n",
      "[00:01:54] ML tree search completed, best tree logLH: -30753.950376\n",
      "\n",
      "[00:01:54] Starting bootstrapping analysis with 1000 replicates.\n",
      "\n",
      "[00:02:18] [worker #7] Bootstrap tree #8, logLikelihood: -30106.619476\n",
      "[00:02:21] [worker #15] Bootstrap tree #16, logLikelihood: -30297.424994\n",
      "[00:02:23] [worker #12] Bootstrap tree #13, logLikelihood: -31532.631930\n",
      "[00:02:24] [worker #17] Bootstrap tree #18, logLikelihood: -30551.528921\n",
      "[00:02:24] [worker #1] Bootstrap tree #2, logLikelihood: -30162.716866\n",
      "[00:02:27] [worker #4] Bootstrap tree #5, logLikelihood: -30677.716629\n",
      "[00:02:31] [worker #13] Bootstrap tree #14, logLikelihood: -30701.103987\n",
      "[00:02:32] [worker #14] Bootstrap tree #15, logLikelihood: -30799.944522\n",
      "[00:02:34] [worker #16] Bootstrap tree #17, logLikelihood: -30744.039212\n",
      "[00:02:36] [worker #19] Bootstrap tree #20, logLikelihood: -30684.530116\n",
      "[00:02:37] [worker #8] Bootstrap tree #9, logLikelihood: -30258.953058\n",
      "[00:02:41] [worker #3] Bootstrap tree #4, logLikelihood: -30455.899538\n",
      "[00:02:42] [worker #10] Bootstrap tree #11, logLikelihood: -30764.314559\n",
      "[00:02:44] [worker #5] Bootstrap tree #6, logLikelihood: -30622.950523\n",
      "[00:02:45] [worker #18] Bootstrap tree #19, logLikelihood: -30037.517685\n",
      "[00:02:46] [worker #7] Bootstrap tree #28, logLikelihood: -30706.901397\n",
      "[00:02:47] [worker #12] Bootstrap tree #33, logLikelihood: -30139.349835\n",
      "[00:02:51] [worker #2] Bootstrap tree #3, logLikelihood: -30714.862485\n",
      "[00:02:51] [worker #1] Bootstrap tree #22, logLikelihood: -31044.496661\n",
      "[00:02:52] [worker #6] Bootstrap tree #7, logLikelihood: -30191.904154\n",
      "[00:02:54] [worker #4] Bootstrap tree #25, logLikelihood: -30738.412564\n",
      "[00:02:54] [worker #11] Bootstrap tree #12, logLikelihood: -30679.245185\n",
      "[00:02:55] [worker #15] Bootstrap tree #36, logLikelihood: -30622.551989\n",
      "[00:02:58] [worker #13] Bootstrap tree #34, logLikelihood: -30316.404189\n",
      "[00:02:58] [worker #9] Bootstrap tree #10, logLikelihood: -30746.637280\n",
      "[00:03:02] [worker #0] Bootstrap tree #1, logLikelihood: -30618.002122\n",
      "[00:03:06] [worker #17] Bootstrap tree #38, logLikelihood: -30809.766246\n",
      "[00:03:06] [worker #8] Bootstrap tree #29, logLikelihood: -30203.870728\n",
      "[00:03:07] [worker #7] Bootstrap tree #48, logLikelihood: -30978.719964\n",
      "[00:03:12] [worker #14] Bootstrap tree #35, logLikelihood: -30275.261920\n",
      "[00:03:14] [worker #18] Bootstrap tree #39, logLikelihood: -30422.757653\n",
      "[00:03:16] [worker #3] Bootstrap tree #24, logLikelihood: -30662.755339\n",
      "[00:03:25] [worker #1] Bootstrap tree #42, logLikelihood: -29683.060425\n",
      "[00:03:26] [worker #9] Bootstrap tree #30, logLikelihood: -30520.008669\n",
      "[00:03:33] [worker #4] Bootstrap tree #45, logLikelihood: -30442.658150\n",
      "[00:03:33] [worker #10] Bootstrap tree #31, logLikelihood: -31071.672272\n",
      "[00:03:41] [worker #19] Bootstrap tree #40, logLikelihood: -30654.059242\n",
      "[00:03:42] [worker #5] Bootstrap tree #26, logLikelihood: -30247.813722\n",
      "[00:03:42] [worker #11] Bootstrap tree #32, logLikelihood: -30228.682330\n",
      "[00:03:45] [worker #8] Bootstrap tree #49, logLikelihood: -30319.334187\n",
      "[00:03:50] [worker #3] Bootstrap tree #44, logLikelihood: -31469.825524\n",
      "[00:03:51] [worker #16] Bootstrap tree #37, logLikelihood: -31090.611173\n",
      "[00:03:51] [worker #9] Bootstrap tree #50, logLikelihood: -30456.132027\n",
      "[00:03:54] [worker #2] Bootstrap tree #23, logLikelihood: -31180.137830\n",
      "[00:04:02] [worker #0] Bootstrap tree #21, logLikelihood: -30175.304722\n",
      "[00:04:07] [worker #6] Bootstrap tree #27, logLikelihood: -31497.751651\n",
      "[00:04:33] [worker #0] Bootstrap tree #41, logLikelihood: -30108.678150\n",
      "[00:04:37] [worker #2] Bootstrap tree #43, logLikelihood: -29859.007075\n",
      "[00:04:47] [worker #5] Bootstrap tree #46, logLikelihood: -30656.108428\n",
      "[00:04:51] [worker #6] Bootstrap tree #47, logLikelihood: -31426.077778\n",
      "[00:05:18] [worker #1] Bootstrap tree #62, logLikelihood: -30583.633239\n",
      "[00:05:19] [worker #12] Bootstrap tree #53, logLikelihood: -30514.498280\n",
      "[00:05:20] [worker #2] Bootstrap tree #63, logLikelihood: -30336.764833\n",
      "[00:05:21] [worker #8] Bootstrap tree #69, logLikelihood: -30712.591569\n",
      "[00:05:21] [worker #9] Bootstrap tree #70, logLikelihood: -31224.562731\n",
      "[00:05:22] [worker #10] Bootstrap tree #51, logLikelihood: -31390.682357\n",
      "[00:05:22] [worker #4] Bootstrap tree #65, logLikelihood: -31315.447105\n",
      "[00:05:25] [worker #17] Bootstrap tree #58, logLikelihood: -29829.929818\n",
      "[00:05:26] [worker #14] Bootstrap tree #55, logLikelihood: -29814.169765\n",
      "[00:05:27] [worker #6] Bootstrap tree #67, logLikelihood: -30170.528017\n",
      "[00:05:30] [worker #15] Bootstrap tree #56, logLikelihood: -30704.699784\n",
      "[00:05:31] [worker #3] Bootstrap tree #64, logLikelihood: -30917.903613\n",
      "[00:05:39] [worker #11] Bootstrap tree #52, logLikelihood: -30110.251210\n",
      "[00:05:42] [worker #13] Bootstrap tree #54, logLikelihood: -30713.406804\n",
      "[00:05:43] [worker #5] Bootstrap tree #66, logLikelihood: -29813.131140\n",
      "[00:05:47] [worker #2] Bootstrap tree #83, logLikelihood: -29966.574862\n",
      "[00:05:48] [worker #9] Bootstrap tree #90, logLikelihood: -30497.661116\n",
      "[00:05:50] [worker #4] Bootstrap tree #85, logLikelihood: -30967.576785\n",
      "[00:05:52] [worker #12] Bootstrap tree #73, logLikelihood: -30906.777384\n",
      "[00:05:53] [worker #1] Bootstrap tree #82, logLikelihood: -30966.793868\n",
      "[00:05:54] [worker #7] Bootstrap tree #68, logLikelihood: -30570.546581\n",
      "[00:05:55] [worker #8] Bootstrap tree #89, logLikelihood: -30733.750089\n",
      "[00:05:56] [worker #0] Bootstrap tree #61, logLikelihood: -30123.119542\n",
      "[00:05:57] [worker #16] Bootstrap tree #57, logLikelihood: -30462.554397\n",
      "[00:05:57] [worker #18] Bootstrap tree #59, logLikelihood: -31933.355367\n",
      "[00:05:58] [worker #10] Bootstrap tree #71, logLikelihood: -30119.097258\n",
      "[00:05:58] [worker #6] Bootstrap tree #87, logLikelihood: -30131.793293\n",
      "[00:06:02] [worker #15] Bootstrap tree #76, logLikelihood: -29707.499123\n",
      "[00:06:03] [worker #19] Bootstrap tree #60, logLikelihood: -30551.021189\n",
      "[00:06:04] [worker #17] Bootstrap tree #78, logLikelihood: -30615.000514\n",
      "[00:06:05] [worker #14] Bootstrap tree #75, logLikelihood: -30015.518900\n",
      "[00:06:11] [worker #3] Bootstrap tree #84, logLikelihood: -30815.270978\n",
      "[00:06:24] [worker #11] Bootstrap tree #72, logLikelihood: -31072.893054\n",
      "[00:06:25] [worker #13] Bootstrap tree #74, logLikelihood: -30089.433019\n",
      "[00:06:28] [worker #12] Bootstrap tree #93, logLikelihood: -31109.917170\n",
      "[00:06:29] [worker #5] Bootstrap tree #86, logLikelihood: -30477.663880\n",
      "[00:06:31] [worker #7] Bootstrap tree #88, logLikelihood: -30949.016475\n",
      "[00:06:37] [worker #15] Bootstrap tree #96, logLikelihood: -30608.911692\n",
      "[00:06:42] [worker #16] Bootstrap tree #77, logLikelihood: -30420.090180\n",
      "[00:06:43] [worker #19] Bootstrap tree #80, logLikelihood: -29685.870705\n",
      "[00:06:46] [worker #17] Bootstrap tree #98, logLikelihood: -30622.234778\n",
      "[00:06:47] [worker #0] Bootstrap tree #81, logLikelihood: -31700.743749\n",
      "[00:06:49] [worker #13] Bootstrap tree #94, logLikelihood: -30450.861642\n",
      "[00:06:53] [worker #14] Bootstrap tree #95, logLikelihood: -30283.179186\n",
      "[00:06:53] [worker #11] Bootstrap tree #92, logLikelihood: -30038.153172\n",
      "[00:07:03] [worker #18] Bootstrap tree #79, logLikelihood: -30036.202217\n",
      "[00:07:03] [worker #10] Bootstrap tree #91, logLikelihood: -30695.772203\n",
      "[00:07:10] [worker #19] Bootstrap tree #100, logLikelihood: -29922.122741\n",
      "[00:07:13] [worker #16] Bootstrap tree #97, logLikelihood: -31205.467119\n",
      "[00:07:35] [worker #18] Bootstrap tree #99, logLikelihood: -30239.411627\n",
      "[00:08:02] [worker #12] Bootstrap tree #113, logLikelihood: -29786.414350\n",
      "[00:08:03] [worker #13] Bootstrap tree #114, logLikelihood: -31165.120039\n",
      "[00:08:05] [worker #18] Bootstrap tree #119, logLikelihood: -30402.208628\n",
      "[00:08:05] [worker #17] Bootstrap tree #118, logLikelihood: -31225.042649\n",
      "[00:08:05] [worker #14] Bootstrap tree #115, logLikelihood: -30120.631804\n",
      "[00:08:06] [worker #19] Bootstrap tree #120, logLikelihood: -30490.959309\n",
      "[00:08:06] [worker #10] Bootstrap tree #111, logLikelihood: -30447.366833\n",
      "[00:08:14] [worker #15] Bootstrap tree #116, logLikelihood: -31020.028071\n",
      "[00:08:15] [worker #2] Bootstrap tree #103, logLikelihood: -29934.654618\n",
      "[00:08:20] [worker #8] Bootstrap tree #109, logLikelihood: -30134.295522\n",
      "[00:08:23] [worker #7] Bootstrap tree #108, logLikelihood: -30334.592804\n",
      "[00:08:24] [worker #4] Bootstrap tree #105, logLikelihood: -30657.662167\n",
      "[00:08:25] [worker #1] Bootstrap tree #102, logLikelihood: -30137.204300\n",
      "[00:08:26] [worker #16] Bootstrap tree #117, logLikelihood: -30181.020156\n",
      "[00:08:26] [worker #6] Bootstrap tree #107, logLikelihood: -30399.656480\n",
      "[00:08:30] [worker #11] Bootstrap tree #112, logLikelihood: -30829.038156\n",
      "[00:08:32] [worker #9] Bootstrap tree #110, logLikelihood: -29112.792476\n",
      "[00:08:32] [worker #5] Bootstrap tree #106, logLikelihood: -30601.059646\n",
      "[00:08:32] [worker #13] Bootstrap tree #134, logLikelihood: -31158.871662\n",
      "[00:08:34] [worker #14] Bootstrap tree #135, logLikelihood: -30519.335990\n",
      "[00:08:37] [worker #12] Bootstrap tree #133, logLikelihood: -29942.921658\n",
      "[00:08:41] [worker #2] Bootstrap tree #123, logLikelihood: -30581.960997\n",
      "[00:08:41] [worker #15] Bootstrap tree #136, logLikelihood: -30967.749539\n",
      "[00:08:46] [worker #17] Bootstrap tree #138, logLikelihood: -30440.795200\n",
      "[00:08:48] [worker #18] Bootstrap tree #139, logLikelihood: -30927.006773\n",
      "[00:08:51] [worker #7] Bootstrap tree #128, logLikelihood: -30729.211410\n",
      "[00:08:53] [worker #19] Bootstrap tree #140, logLikelihood: -31088.524426\n",
      "[00:08:53] [worker #1] Bootstrap tree #122, logLikelihood: -31528.909220\n",
      "[00:08:55] [worker #0] Bootstrap tree #101, logLikelihood: -31252.758533\n",
      "[00:08:55] [worker #3] Bootstrap tree #104, logLikelihood: -31309.978229\n",
      "[00:08:56] [worker #8] Bootstrap tree #129, logLikelihood: -30835.164091\n",
      "[00:08:59] [worker #5] Bootstrap tree #126, logLikelihood: -29544.944367\n",
      "[00:09:00] [worker #4] Bootstrap tree #125, logLikelihood: -30467.576186\n",
      "[00:09:03] [worker #6] Bootstrap tree #127, logLikelihood: -30548.470586\n",
      "[00:09:08] [worker #16] Bootstrap tree #137, logLikelihood: -31009.483063\n",
      "[00:09:09] [worker #10] Bootstrap tree #131, logLikelihood: -30261.656883\n",
      "[00:09:12] [worker #11] Bootstrap tree #132, logLikelihood: -30060.648553\n",
      "[00:09:16] [worker #9] Bootstrap tree #130, logLikelihood: -30668.426852\n",
      "[00:09:18] [worker #1] Bootstrap tree #142, logLikelihood: -30972.176229\n",
      "[00:09:30] [worker #7] Bootstrap tree #148, logLikelihood: -31391.345542\n",
      "[00:09:32] [worker #8] Bootstrap tree #149, logLikelihood: -30617.364309\n",
      "[00:09:35] [worker #0] Bootstrap tree #121, logLikelihood: -30923.364078\n",
      "[00:09:43] [worker #9] Bootstrap tree #150, logLikelihood: -31156.217236\n",
      "[00:09:43] [worker #3] Bootstrap tree #124, logLikelihood: -31037.793514\n",
      "[00:09:51] [worker #5] Bootstrap tree #146, logLikelihood: -30388.920057\n",
      "[00:09:52] [worker #4] Bootstrap tree #145, logLikelihood: -30493.996313\n",
      "[00:09:57] [worker #6] Bootstrap tree #147, logLikelihood: -31714.864806\n",
      "[00:10:10] [worker #3] Bootstrap tree #144, logLikelihood: -29299.136163\n",
      "[00:10:16] [worker #2] Bootstrap tree #143, logLikelihood: -30312.444203\n"
     ]
    }
   ],
   "source": [
    "/data/ps/soft/raxml-ng_v1.0.0_linux_x86_64/./raxml-ng --msa $region_aligned --model GTR+G+I --all --threads 20"
   ]
  },
  {
   "cell_type": "code",
   "execution_count": 6,
   "metadata": {},
   "outputs": [
    {
     "name": "stdout",
     "output_type": "stream",
     "text": [
      "GTR{1.076537/3.765780/1.332787/0.408197/3.559008/1.000000}+FU{0.239430/0.241529/0.266507/0.252534}+IU{0.781809}+G4m{0.642432}, noname = 1-10392\n"
     ]
    }
   ],
   "source": [
    "cat pdu.phy.raxml.bestModel"
   ]
  },
  {
   "cell_type": "markdown",
   "metadata": {},
   "source": [
    "## Compare CORE and PDU trees"
   ]
  },
  {
   "cell_type": "markdown",
   "metadata": {},
   "source": [
    "![core_vs_pdu](podval/pdu_vs_core_raxml.png)"
   ]
  },
  {
   "cell_type": "markdown",
   "metadata": {},
   "source": [
    "### subset 10 taxa \n",
    "#### plot with script compare_2_trees_3.png"
   ]
  },
  {
   "cell_type": "code",
   "execution_count": 11,
   "metadata": {},
   "outputs": [
    {
     "name": "stdout",
     "output_type": "stream",
     "text": [
      "podval/entanglement_10_4.png  podval/pdu_vs_core_raxml.png\n"
     ]
    }
   ],
   "source": [
    "ls podval/*.png"
   ]
  },
  {
   "cell_type": "markdown",
   "metadata": {},
   "source": [
    "![](podval/entanglement_10_4.png)"
   ]
  },
  {
   "cell_type": "markdown",
   "metadata": {},
   "source": [
    "### histogram of entanglement values"
   ]
  }
 ],
 "metadata": {
  "kernelspec": {
   "display_name": "Bash",
   "language": "bash",
   "name": "bash"
  },
  "language_info": {
   "codemirror_mode": "shell",
   "file_extension": ".sh",
   "mimetype": "text/x-sh",
   "name": "bash"
  }
 },
 "nbformat": 4,
 "nbformat_minor": 4
}
