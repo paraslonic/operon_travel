{
 "cells": [
  {
   "cell_type": "markdown",
   "metadata": {},
   "source": [
    "# PDU\n",
    "* * *"
   ]
  },
  {
   "cell_type": "markdown",
   "metadata": {},
   "source": [
    "### do *core* tree with raxml"
   ]
  },
  {
   "cell_type": "code",
   "execution_count": 17,
   "metadata": {},
   "outputs": [],
   "source": [
    "core=\"orthosnake/pdu/tmp/coreogaligned.fasta\""
   ]
  },
  {
   "cell_type": "code",
   "execution_count": null,
   "metadata": {},
   "outputs": [],
   "source": [
    "mkdir -p logs\n",
    "nohup /data/ps/soft/raxml-ng_v1.0.0_linux_x86_64/./raxml-ng --msa $core --model GTR+G+I --all --threads 40 > logs/log_core_raxml &"
   ]
  },
  {
   "cell_type": "markdown",
   "metadata": {},
   "source": [
    "### the Tree is here: \n"
   ]
  },
  {
   "cell_type": "code",
   "execution_count": 11,
   "metadata": {},
   "outputs": [
    {
     "name": "stdout",
     "output_type": "stream",
     "text": [
      "studio/core_pdu_aligned.fasta.raxml.bestTree\n",
      "/data12/bio/runs-manolov/operon_travel/studio/core_pdu_aligned.fasta.raxml.bestTree\n"
     ]
    }
   ],
   "source": [
    "ls studio/core_pdu_aligned.fasta.raxml.bestTree\n",
    "ls /data12/bio/runs-manolov/operon_travel/studio/core_pdu_aligned.fasta.raxml.bestTree"
   ]
  },
  {
   "cell_type": "markdown",
   "metadata": {},
   "source": [
    "### do *operon* tree:"
   ]
  },
  {
   "cell_type": "code",
   "execution_count": 1,
   "metadata": {},
   "outputs": [],
   "source": [
    "region_aligned=tmp/og_in_region/pdu/pdu.fasta"
   ]
  },
  {
   "cell_type": "code",
   "execution_count": null,
   "metadata": {},
   "outputs": [],
   "source": [
    "/data/ps/soft/raxml-ng_v1.0.0_linux_x86_64/./raxml-ng --msa $region_aligned --model GTR+G+I --all --threads 100 --redo"
   ]
  },
  {
   "cell_type": "code",
   "execution_count": 2,
   "metadata": {},
   "outputs": [],
   "source": [
    "library(\"ape\")"
   ]
  },
  {
   "cell_type": "code",
   "execution_count": 4,
   "metadata": {},
   "outputs": [],
   "source": [
    "tree = read.tree(\"/data/ps/operon_travel/tmp/og_in_region/pdu/pdu.fasta.raxml.support\")"
   ]
  },
  {
   "cell_type": "code",
   "execution_count": 5,
   "metadata": {},
   "outputs": [
    {
     "name": "stderr",
     "output_type": "stream",
     "text": [
      "Loading required package: maps\n"
     ]
    }
   ],
   "source": [
    "library(phytools)\n",
    "library(\"phangorn\")"
   ]
  },
  {
   "cell_type": "code",
   "execution_count": 6,
   "metadata": {},
   "outputs": [],
   "source": [
    "tree = midpoint(tree)"
   ]
  },
  {
   "cell_type": "code",
   "execution_count": 9,
   "metadata": {},
   "outputs": [
    {
     "name": "stderr",
     "output_type": "stream",
     "text": [
      "Warning message in plot.window(...):\n",
      "“\"standardize\" is not a graphical parameter”Warning message in plot.window(...):\n",
      "“\"colors\" is not a graphical parameter”Warning message in plot.xy(xy, type, ...):\n",
      "“\"standardize\" is not a graphical parameter”Warning message in plot.xy(xy, type, ...):\n",
      "“\"colors\" is not a graphical parameter”Warning message in title(...):\n",
      "“\"standardize\" is not a graphical parameter”Warning message in title(...):\n",
      "“\"colors\" is not a graphical parameter”"
     ]
    },
    {
     "data": {
      "image/png": "[encoded data removed]",
      "text/plain": [
       "plot without title"
      ]
     },
     "metadata": {},
     "output_type": "display_data"
    }
   ],
   "source": [
    "plot(tree,standardize=TRUE,colors=\"grey\", cex = 0.1)\n",
    "nodelabels(node=1:tree$Nnode+Ntip(tree),\n",
    "    pie=cbind(as.numeric(tree$node.label),100-as.numeric(tree$node.label)),\n",
    "    piecol=c(\"black\",\"white\"),cex=0.3)"
   ]
  },
  {
   "cell_type": "markdown",
   "metadata": {},
   "source": [
    "### copy to studio"
   ]
  },
  {
   "cell_type": "code",
   "execution_count": 13,
   "metadata": {},
   "outputs": [],
   "source": [
    "mkdir -p /data/ps/operon_travel/studio/pdu\n",
    "cp tmp/og_in_region/pdu/pdu.fasta.raxml.* /data/ps/operon_travel/studio/pdu\n",
    "cp /data12/bio/runs-manolov/operon_travel/studio/core_pdu_aligned.fasta.raxml* studio/pdu\n",
    "cp studio/sorbitol/compare_2_trees_3.r studio/pdu"
   ]
  },
  {
   "cell_type": "markdown",
   "metadata": {},
   "source": [
    "# RESULTS\n",
    "### Compare CORE and PDU trees"
   ]
  },
  {
   "cell_type": "markdown",
   "metadata": {},
   "source": [
    "<div>\n",
    "<img src=\"studio/pdu/compare_pdu_full.png\" width=\"800\">\n",
    "</div>"
   ]
  },
  {
   "cell_type": "markdown",
   "metadata": {},
   "source": [
    "### subset 10 taxa \n",
    "#### plot with script compare_2_trees_3.png"
   ]
  },
  {
   "cell_type": "code",
   "execution_count": 11,
   "metadata": {},
   "outputs": [
    {
     "name": "stdout",
     "output_type": "stream",
     "text": [
      "podval/entanglement_10_4.png  podval/pdu_vs_core_raxml.png\n"
     ]
    }
   ],
   "source": [
    "ls podval/*.png"
   ]
  },
  {
   "cell_type": "markdown",
   "metadata": {},
   "source": [
    "![](podval/entanglement_10_4.png)"
   ]
  },
  {
   "cell_type": "markdown",
   "metadata": {},
   "source": [
    "### histogram of entanglement values"
   ]
  }
 ],
 "metadata": {
  "kernelspec": {
   "display_name": "R",
   "language": "R",
   "name": "ir"
  },
  "language_info": {
   "codemirror_mode": "r",
   "file_extension": ".r",
   "mimetype": "text/x-r-source",
   "name": "R",
   "pygments_lexer": "r",
   "version": "3.6.3"
  }
 },
 "nbformat": 4,
 "nbformat_minor": 4
}
