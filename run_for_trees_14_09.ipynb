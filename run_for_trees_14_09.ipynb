{
 "cells": [
  {
   "cell_type": "markdown",
   "metadata": {},
   "source": [
    "## [14.09]"
   ]
  },
  {
   "cell_type": "markdown",
   "metadata": {},
   "source": [
    "### copy hemin core from manual run"
   ]
  },
  {
   "cell_type": "code",
   "execution_count": 10,
   "metadata": {},
   "outputs": [],
   "source": [
    "mkdir tree_core/hemin/"
   ]
  },
  {
   "cell_type": "code",
   "execution_count": 11,
   "metadata": {},
   "outputs": [],
   "source": [
    "cp orthosnake/hemin/tmp/coreogaligned.fasta.raxml.* tree_core/hemin/"
   ]
  },
  {
   "cell_type": "code",
   "execution_count": 16,
   "metadata": {},
   "outputs": [],
   "source": [
    "for f in tree_core/hemin/*.*; do newname=$(echo $f | sed 's/coreogaligned.fasta/hemin_core/'); mv $f $newname; done"
   ]
  },
  {
   "cell_type": "code",
   "execution_count": 17,
   "metadata": {},
   "outputs": [
    {
     "name": "stdout",
     "output_type": "stream",
     "text": [
      "hemin_core.raxml.bestModel\t    hemin_core.raxml.mlTrees\n",
      "hemin_core.raxml.bestTree\t    hemin_core.raxml.rba\n",
      "hemin_core.raxml.bestTreeCollapsed  hemin_core.raxml.reduced.phy\n",
      "hemin_core.raxml.bootstraps\t    hemin_core.raxml.startTree\n",
      "hemin_core.raxml.log\t\t    hemin_core.raxml.support\n"
     ]
    }
   ],
   "source": [
    "ls tree_core/hemin/"
   ]
  },
  {
   "cell_type": "markdown",
   "metadata": {},
   "source": [
    "### what snake wants?"
   ]
  },
  {
   "cell_type": "code",
   "execution_count": null,
   "metadata": {},
   "outputs": [],
   "source": [
    "conda activate snakemake"
   ]
  },
  {
   "cell_type": "code",
   "execution_count": null,
   "metadata": {},
   "outputs": [],
   "source": [
    "snakemake --cores 100 -rk --use-conda -s Snakefile"
   ]
  },
  {
   "cell_type": "markdown",
   "metadata": {},
   "source": [
    "## [15.09]"
   ]
  },
  {
   "cell_type": "code",
   "execution_count": 10,
   "metadata": {},
   "outputs": [
    {
     "name": "stdout",
     "output_type": "stream",
     "text": [
      "-rw-rw-r-- 1 manolov manolov 608459 Sep 14 18:46 tmp/og_in_region/hemin/hemin.fasta\n",
      "(snakemake) "
     ]
    },
    {
     "ename": "",
     "evalue": "1",
     "output_type": "error",
     "traceback": []
    }
   ],
   "source": [
    "ll tmp/og_in_region/hemin/hemin.fasta"
   ]
  },
  {
   "cell_type": "markdown",
   "metadata": {},
   "source": [
    "snakemake --cores 100 -rk --use-conda -s Snakefile"
   ]
  },
  {
   "cell_type": "markdown",
   "metadata": {},
   "source": [
    "### snakemake for hemin done (+)"
   ]
  },
  {
   "cell_type": "markdown",
   "metadata": {},
   "source": [
    "### lets compare trees (+)"
   ]
  },
  {
   "cell_type": "markdown",
   "metadata": {},
   "source": [
    "### run other regions"
   ]
  },
  {
   "cell_type": "code",
   "execution_count": null,
   "metadata": {},
   "outputs": [],
   "source": [
    "snakemake --cores 100 -rk --use-conda -s Snakefile --latency-wait 100 "
   ]
  },
  {
   "cell_type": "markdown",
   "metadata": {},
   "source": [
    "### snakemake done (+)"
   ]
  }
 ],
 "metadata": {
  "kernelspec": {
   "display_name": "Bash",
   "language": "bash",
   "name": "bash"
  },
  "language_info": {
   "codemirror_mode": "shell",
   "file_extension": ".sh",
   "mimetype": "text/x-sh",
   "name": "bash"
  }
 },
 "nbformat": 4,
 "nbformat_minor": 4
}
