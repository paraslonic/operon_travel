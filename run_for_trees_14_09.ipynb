{
 "cells": [
  {
   "cell_type": "markdown",
   "metadata": {},
   "source": [
    "## [14.09]"
   ]
  },
  {
   "cell_type": "markdown",
   "metadata": {},
   "source": [
    "### copy hemin core from manual run"
   ]
  },
  {
   "cell_type": "code",
   "execution_count": 10,
   "metadata": {},
   "outputs": [],
   "source": [
    "mkdir tree_core/hemin/"
   ]
  },
  {
   "cell_type": "code",
   "execution_count": 11,
   "metadata": {},
   "outputs": [],
   "source": [
    "cp orthosnake/hemin/tmp/coreogaligned.fasta.raxml.* tree_core/hemin/"
   ]
  },
  {
   "cell_type": "code",
   "execution_count": 16,
   "metadata": {},
   "outputs": [],
   "source": [
    "for f in tree_core/hemin/*.*; do newname=$(echo $f | sed 's/coreogaligned.fasta/hemin_core/'); mv $f $newname; done"
   ]
  },
  {
   "cell_type": "code",
   "execution_count": 17,
   "metadata": {},
   "outputs": [
    {
     "name": "stdout",
     "output_type": "stream",
     "text": [
      "hemin_core.raxml.bestModel\t    hemin_core.raxml.mlTrees\n",
      "hemin_core.raxml.bestTree\t    hemin_core.raxml.rba\n",
      "hemin_core.raxml.bestTreeCollapsed  hemin_core.raxml.reduced.phy\n",
      "hemin_core.raxml.bootstraps\t    hemin_core.raxml.startTree\n",
      "hemin_core.raxml.log\t\t    hemin_core.raxml.support\n"
     ]
    }
   ],
   "source": [
    "ls tree_core/hemin/"
   ]
  },
  {
   "cell_type": "markdown",
   "metadata": {},
   "source": [
    "## what snake wants?"
   ]
  },
  {
   "cell_type": "code",
   "execution_count": 18,
   "metadata": {},
   "outputs": [
    {
     "name": "stdout",
     "output_type": "stream",
     "text": [
      "Genomes:  1212\n",
      "\u001b[33mBuilding DAG of jobs...\u001b[0m\n",
      "\u001b[33mUpdating job 4.\u001b[0m\n",
      "\u001b[33mUpdating job 5.\u001b[0m\n",
      "\u001b[33mUpdating job 8.\u001b[0m\n",
      "\u001b[33mUpdating job 9.\u001b[0m\n",
      "\u001b[33mJob counts:\n",
      "\tcount\tjobs\n",
      "\t1\tall\n",
      "\t1\tog_in_region\n",
      "\t1\tog_in_region_sequence\n",
      "\t1\ttree_for_region\n",
      "\t4\u001b[0m\n",
      "\u001b[32m\u001b[0m\n",
      "\u001b[32m[Mon Sep 14 17:49:38 2020]\u001b[0m\n",
      "\u001b[32mrule og_in_region:\n",
      "    input: blast/hemin/GCF_012934655.2_ASM1293465v2_genomic.blast, orthosnake/hemin/faa/GCF_012934655.2_ASM1293465v2_genomic.fasta\n",
      "    output: tmp/og_in_region/hemin/og_list\n",
      "    jobid: 7681\n",
      "    reason: Missing output files: tmp/og_in_region/hemin/og_list\n",
      "    wildcards: region=hemin\u001b[0m\n",
      "\u001b[32m\u001b[0m\n",
      "\u001b[33mRscript helpers/genes_region_overlap.r hemin tmp/og_in_region/hemin/og_list\u001b[0m\n",
      "\u001b[32m\u001b[0m\n",
      "\u001b[32m[Mon Sep 14 17:49:38 2020]\u001b[0m\n",
      "\u001b[32mrule og_in_region_sequence:\n",
      "    input: tmp/og_in_region/hemin/og_list, orthosnake/hemin/tmp/coreogaligned.fasta\n",
      "    output: tmp/og_in_region/hemin/hemin.fasta\n",
      "    jobid: 3\n",
      "    reason: Missing output files: tmp/og_in_region/hemin/hemin.fasta; Input files updated by another job: tmp/og_in_region/hemin/og_list\n",
      "    wildcards: region=hemin\u001b[0m\n",
      "\u001b[32m\u001b[0m\n",
      "\u001b[33m\n",
      "            while read f\n",
      "            do \n",
      "                OG_FASTA=\"orthosnake/hemin/Results/coreogs_aligned_nuc/$f.fasta\"\n",
      "                if [ -f $OG_FASTA ]; then  \n",
      "                    cp $OG_FASTA tmp/og_in_region/hemin/$f.fasta\n",
      "                fi    \n",
      "            done < tmp/og_in_region/hemin/og_list\n",
      "            perl scripts/concatenate_core.pl tmp/og_in_region/hemin tmp/og_in_region/hemin/hemin.fasta\n",
      "        \u001b[0m\n",
      "\u001b[32m\u001b[0m\n",
      "\u001b[32m[Mon Sep 14 17:49:38 2020]\u001b[0m\n",
      "\u001b[32mrule tree_for_region:\n",
      "    input: tmp/og_in_region/hemin/hemin.fasta\n",
      "    output: tree_region/hemin/hemin.raxml.bestTree\n",
      "    jobid: 1\n",
      "    reason: Missing output files: tree_region/hemin/hemin.raxml.bestTree; Input files updated by another job: tmp/og_in_region/hemin/hemin.fasta\n",
      "    wildcards: region=hemin\u001b[0m\n",
      "\u001b[32m\u001b[0m\n",
      "\u001b[33mraxml-ng --msa tmp/og_in_region/hemin/hemin.fasta --model GTR+G+I --threads 1 --prefix $tree_region/hemin/hemin\u001b[0m\n",
      "\u001b[32m\u001b[0m\n",
      "\u001b[32m[Mon Sep 14 17:49:38 2020]\u001b[0m\n",
      "\u001b[32mlocalrule all:\n",
      "    input: tree_region/hemin/hemin.raxml.bestTree, tree_core/hemin/hemin_core.raxml.bestTree\n",
      "    jobid: 0\n",
      "    reason: Input files updated by another job: tree_region/hemin/hemin.raxml.bestTree\u001b[0m\n",
      "\u001b[32m\u001b[0m\n",
      "\u001b[33mJob counts:\n",
      "\tcount\tjobs\n",
      "\t1\tall\n",
      "\t1\tog_in_region\n",
      "\t1\tog_in_region_sequence\n",
      "\t1\ttree_for_region\n",
      "\t4\u001b[0m\n",
      "\u001b[33mThis was a dry-run (flag -n). The order of jobs does not reflect the order of execution.\u001b[0m\n"
     ]
    }
   ],
   "source": [
    "snakemake -rpn "
   ]
  },
  {
   "cell_type": "code",
   "execution_count": 20,
   "metadata": {},
   "outputs": [
    {
     "name": "stdout",
     "output_type": "stream",
     "text": [
      "pdu  sorbitol\n"
     ]
    }
   ],
   "source": [
    "ls tmp/og_in_region/"
   ]
  }
 ],
 "metadata": {
  "kernelspec": {
   "display_name": "Bash",
   "language": "bash",
   "name": "bash"
  },
  "language_info": {
   "codemirror_mode": "shell",
   "file_extension": ".sh",
   "mimetype": "text/x-sh",
   "name": "bash"
  }
 },
 "nbformat": 4,
 "nbformat_minor": 4
}
