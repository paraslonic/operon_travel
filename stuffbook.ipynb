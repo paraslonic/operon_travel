{
 "cells": [
  {
   "cell_type": "markdown",
   "metadata": {},
   "source": [
    "## install generax (30.09)"
   ]
  },
  {
   "cell_type": "code",
   "execution_count": 1,
   "metadata": {},
   "outputs": [
    {
     "name": "stdout",
     "output_type": "stream",
     "text": [
      "(experimental) "
     ]
    },
    {
     "ename": "",
     "evalue": "1",
     "output_type": "error",
     "traceback": []
    }
   ],
   "source": [
    "conda activate experimental"
   ]
  },
  {
   "cell_type": "code",
   "execution_count": null,
   "metadata": {},
   "outputs": [
    {
     "name": "stdout",
     "output_type": "stream",
     "text": [
      "Collecting package metadata (current_repodata.json): done\n",
      "Solving environment: done\n",
      "\n",
      "\n",
      "==> WARNING: A newer version of conda exists. <==\n",
      "  current version: 4.8.4\n",
      "  latest version: 4.8.5\n",
      "\n",
      "Please update conda by running\n",
      "\n",
      "    $ conda update -n base -c defaults conda\n",
      "\n",
      "\n",
      "\n",
      "## Package Plan ##\n",
      "\n",
      "  environment location: /data/ps/anaconda3/envs/experimental\n",
      "\n",
      "  added / updated specs:\n",
      "    - generax\n",
      "\n"
     ]
    }
   ],
   "source": [
    "conda install -y -c bioconda generax"
   ]
  },
  {
   "cell_type": "code",
   "execution_count": 5,
   "metadata": {},
   "outputs": [
    {
     "name": "stdout",
     "output_type": "stream",
     "text": [
      "[00:00:00] GeneRax v1.2.2\n",
      "-h, --help\n",
      "-f, --families <FAMILIES_INFORMATION>\n",
      "-s, --species-tree <SPECIES TREE>\n",
      "--strategy <STRATEGY>  {EVAL, SPR}\n",
      "-r --rec-model <reconciliationModel>  {UndatedDL, UndatedDTL, Auto}\n",
      "-p, --prefix <OUTPUT PREFIX>\n",
      "--unrooted-gene-tree\n",
      "--support-threshold <threshold>\n",
      "--per-family-rates\n",
      "--per-species-rates\n",
      "--dup-rate <duplication rate>\n",
      "--loss-rate <loss rate>\n",
      "--transfer-rate <transfer rate>\n",
      "--max-spr-radius <max SPR radius>\n",
      "--rec-weight <reconciliation likelihood weight>\n",
      "--do-not-reconcile\n",
      "--reconciliation-samples <number of samples>\n",
      "--seed <seed>\n",
      "Please find more information on the GeneRax github wiki\n",
      "\n",
      "(experimental) "
     ]
    },
    {
     "ename": "",
     "evalue": "1",
     "output_type": "error",
     "traceback": []
    }
   ],
   "source": [
    "generax -h"
   ]
  },
  {
   "cell_type": "markdown",
   "metadata": {},
   "source": [
    "### gone pyxies"
   ]
  },
  {
   "cell_type": "code",
   "execution_count": 15,
   "metadata": {},
   "outputs": [
    {
     "name": "stdout",
     "output_type": "stream",
     "text": [
      "assembly_summary_refseq.txt  genomes.url  nohup.out\toperon_travel\n",
      "fna\t\t\t     log\t  non_bacillus\tstart_bacillus.ipynb\n",
      "(experimental) "
     ]
    },
    {
     "ename": "",
     "evalue": "1",
     "output_type": "error",
     "traceback": []
    }
   ],
   "source": [
    "ls ../operon_trave_bacillus/"
   ]
  },
  {
   "cell_type": "code",
   "execution_count": 8,
   "metadata": {},
   "outputs": [
    {
     "name": "stdout",
     "output_type": "stream",
     "text": [
      "(experimental) "
     ]
    },
    {
     "ename": "",
     "evalue": "1",
     "output_type": "error",
     "traceback": []
    }
   ],
   "source": [
    "cp -r studio/pdu /data12/bio/runs-manolov/operon_travel/pdu_and_others_0920"
   ]
  },
  {
   "cell_type": "code",
   "execution_count": 10,
   "metadata": {},
   "outputs": [
    {
     "name": "stdout",
     "output_type": "stream",
     "text": [
      "(experimental) "
     ]
    },
    {
     "ename": "",
     "evalue": "1",
     "output_type": "error",
     "traceback": []
    }
   ],
   "source": [
    "cp tmp/og_in_region/pdu/pdu.fasta /data12/bio/runs-manolov/operon_travel/pdu_and_others_0920/studio/pdu"
   ]
  },
  {
   "cell_type": "code",
   "execution_count": 9,
   "metadata": {},
   "outputs": [
    {
     "name": "stdout",
     "output_type": "stream",
     "text": [
      "GCF_000284495.1_ASM28449v1_genomic.fna\t\tglyoxilate_wide.fasta\n",
      "GCF_000284495.1_ASM28449v1_genomic.fna.fai\themin.bed\n",
      "core_pdu_aligned.fasta.raxml.bestModel\t\themin.fasta\n",
      "core_pdu_aligned.fasta.raxml.bestTree\t\tinstall.ipynb\n",
      "core_pdu_aligned.fasta.raxml.bestTreeCollapsed\tpdu\n",
      "core_pdu_aligned.fasta.raxml.log\t\tpdu.fasta.raxml.bestTree\n",
      "core_pdu_aligned.fasta.raxml.mlTrees\t\tsorbitol\n",
      "core_pdu_aligned.fasta.raxml.rba\t\tsorbitol.bed\n",
      "core_pdu_aligned.fasta.raxml.startTree\t\tsorbitol.fasta\n",
      "glyoxilate_wide.bed\t\t\t\tstudio\n",
      "(experimental) "
     ]
    },
    {
     "ename": "",
     "evalue": "1",
     "output_type": "error",
     "traceback": []
    }
   ],
   "source": [
    "ls /data12/bio/runs-manolov/operon_travel/pdu_and_others_0920\n"
   ]
  }
 ],
 "metadata": {
  "kernelspec": {
   "display_name": "Bash",
   "language": "bash",
   "name": "bash"
  },
  "language_info": {
   "codemirror_mode": "shell",
   "file_extension": ".sh",
   "mimetype": "text/x-sh",
   "name": "bash"
  }
 },
 "nbformat": 4,
 "nbformat_minor": 4
}
