{
 "cells": [
  {
   "cell_type": "code",
   "execution_count": 4,
   "metadata": {},
   "outputs": [],
   "source": [
    "setwd(\"/home/manolov/GIT/GOS_DETI/NOTEBOOKS\")"
   ]
  },
  {
   "cell_type": "code",
   "execution_count": 7,
   "metadata": {},
   "outputs": [
    {
     "name": "stderr",
     "output_type": "stream",
     "text": [
      "Bioconductor version 3.10 (BiocManager 1.30.10), R 3.6.3 (2020-02-29)\n",
      "Installing package(s) 'phyloseq'\n",
      "also installing the dependencies ‘Rhdf5lib’, ‘zlibbioc’, ‘rhdf5’, ‘S4Vectors’, ‘IRanges’, ‘XVector’, ‘iterators’, ‘survival’, ‘Biobase’, ‘BiocGenerics’, ‘biomformat’, ‘Biostrings’, ‘data.table’, ‘foreach’, ‘multtest’, ‘vegan’\n",
      "\n",
      "Warning message in install.packages(...):\n",
      "“installation of package ‘vegan’ had non-zero exit status”Warning message in install.packages(...):\n",
      "“installation of package ‘phyloseq’ had non-zero exit status”Updating HTML index of packages in '.Library'\n",
      "Making 'packages.html' ... done\n",
      "Old packages: 'BH', 'callr', 'cli', 'clusterGeneration', 'coda', 'cpp11',\n",
      "  'crosstalk', 'curl', 'deSolve', 'digest', 'evaluate', 'fansi', 'geiger',\n",
      "  'ggplot2', 'gtools', 'htmltools', 'htmlwidgets', 'httpuv', 'IRkernel',\n",
      "  'jsonlite', 'knitr', 'later', 'lattice', 'manipulateWidget', 'markdown',\n",
      "  'MASS', 'mgcv', 'mime', 'mnormt', 'mvtnorm', 'nlme', 'numDeriv', 'phytools',\n",
      "  'pkgconfig', 'plotrix', 'plyr', 'processx', 'promises', 'ps', 'R6', 'Rcpp',\n",
      "  'repr', 'reshape2', 'rgl', 'scales', 'shiny', 'stringi', 'TreeTools', 'uuid',\n",
      "  'webshot', 'withr', 'xfun', 'yaml'\n"
     ]
    }
   ],
   "source": [
    "if (!requireNamespace(\"BiocManager\", quietly = TRUE))\n",
    "    install.packages(\"BiocManager\")\n",
    "\n",
    "BiocManager::install(\"phyloseq\")"
   ]
  }
 ],
 "metadata": {
  "kernelspec": {
   "display_name": "R",
   "language": "R",
   "name": "ir"
  },
  "language_info": {
   "codemirror_mode": "r",
   "file_extension": ".r",
   "mimetype": "text/x-r-source",
   "name": "R",
   "pygments_lexer": "r",
   "version": "3.6.3"
  }
 },
 "nbformat": 4,
 "nbformat_minor": 4
}
